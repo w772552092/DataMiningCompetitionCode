{
 "cells": [
  {
   "cell_type": "code",
   "execution_count": 8,
   "id": "a8a9bc6447bc2eca",
   "metadata": {
    "collapsed": false,
    "ExecuteTime": {
     "end_time": "2025-01-23T09:27:02.081648Z",
     "start_time": "2025-01-23T09:27:02.050205Z"
    }
   },
   "outputs": [],
   "source": [
    "# %load data_process.py\n",
    "import os\n",
    "import pandas as pd\n",
    "from collections import defaultdict\n",
    "import json\n",
    "from datetime import datetime\n",
    "from predict_seq import get_result\n",
    "\n",
    "data_path = '../../assets/初赛数据/'\n",
    "ouput_path = '../../baseline/mountain_baseline/data/'\n",
    "from collections import defaultdict  # 导入defaultdict用于创建具有默认值的字典\n",
    "import pandas as pd  # 导入pandas库用于数据处理\n",
    "import os  # 导入os库用于文件和目录操作\n",
    "\n",
    "\n",
    "def merge_csv_files(folder_path, out_path):\n",
    "    \"\"\"\n",
    "    合并CSV文件并导出到指定路径的函数\n",
    "\n",
    "    主要功能:\n",
    "    1. 扫描指定文件夹中的所有CSV文件\n",
    "    2. 将具有相同前缀的文件分组\n",
    "    3. 合并同组的文件\n",
    "    4. 将合并结果保存到指定路径\n",
    "\n",
    "    参数:\n",
    "    folder_path (str): 源文件夹路径，包含需要合并的CSV文件\n",
    "    out_path (str): 输出文件夹路径，用于保存合并后的文件\n",
    "\n",
    "    工作流程:\n",
    "    1. 首先按文件名前缀对文件进行分组\n",
    "    2. 对每组文件进行合并操作\n",
    "    3. 将Excel文件转换为CSV格式\n",
    "    \"\"\"\n",
    "\n",
    "    # 创建一个defaultdict对象用于存储文件分组\n",
    "    # defaultdict的特点是:当访问不存在的键时,会自动创建一个空列表\n",
    "    # 这比普通字典更方便,因为不需要先检查键是否存在\n",
    "    file_groups = defaultdict(list)\n",
    "\n",
    "    # 遍历源文件夹中的所有文件\n",
    "    for file_name in os.listdir(folder_path):\n",
    "        # 检查两个条件:\n",
    "        # 1. 文件是否以.csv结尾\n",
    "        # 2. 文件名中是否不包含'字段释义'\n",
    "        if file_name.endswith('.csv') and '字段释义' not in file_name:\n",
    "            # rsplit('_', 1)的作用是:\n",
    "            # 1. 从右侧开始分割文件名\n",
    "            # 2. 以'_'为分隔符\n",
    "            # 3. 最多分割1次\n",
    "            # 例如: 'data_2023_1.csv' -> ['data_2023', '1.csv']\n",
    "            prefix = file_name.rsplit('_', 1)[0]\n",
    "\n",
    "            # 使用os.path.join连接路径\n",
    "            # 这比直接用+连接字符串更安全,因为它会根据操作系统自动使用正确的路径分隔符\n",
    "            file_groups[prefix].append(os.path.join(folder_path, file_name))\n",
    "\n",
    "    # 遍历每个分组进行合并操作\n",
    "    for prefix, file_list in file_groups.items():\n",
    "        # 使用pandas的concat函数合并同一组的所有CSV文件\n",
    "        # (pd.read_csv(file) for file in file_list) 是一个生成器表达式\n",
    "        # 它的优点是:\n",
    "        # 1. 节省内存 - 不会同时加载所有文件\n",
    "        # 2. 惰性执行 - 只在需要时才读取文件\n",
    "        merged_df = pd.concat(\n",
    "            (pd.read_csv(file) for file in file_list),\n",
    "            ignore_index=True  # 重置索引,避免合并后的重复索引\n",
    "        )\n",
    "\n",
    "        # 构造输出文件路径\n",
    "        output_file = os.path.join(out_path, f'{prefix}.csv')\n",
    "\n",
    "        # 创建输出文件所需的目录\n",
    "        # exist_ok=True表示:如果目录已存在,不会报错\n",
    "        print('-----------')\n",
    "        print(output_file)\n",
    "        os.makedirs(os.path.dirname(output_file), exist_ok=True)\n",
    "\n",
    "        # 将合并后的数据框保存为CSV文件\n",
    "        # index=False表示不保存行索引\n",
    "        merged_df.to_csv(output_file, index=False)\n",
    "\n",
    "        # 打印进度信息\n",
    "        print('---完成---')\n",
    "        print(f'Merged files with prefix \"{prefix}\" into {output_file}')\n",
    "\n",
    "    # 处理Excel文件\n",
    "    # 1. 创建database_in_use目录(如果不存在)\n",
    "    os.makedirs('database_in_use', exist_ok=True)\n",
    "\n",
    "    # 2. 读取Excel文件\n",
    "    # df_device = pd.read_excel(f'{data_path}设备参数详情.xlsx')\n",
    "    df_device = pd.read_excel(f'{data_path}设备参数详情.xlsx',engine='openpyxl')\n",
    "\n",
    "    # 3. 将Excel文件保存为CSV格式\n",
    "    # 保存两份相同的文件到不同位置\n",
    "    # df_device.to_csv('data/设备参数详情表.csv', index=False)\n",
    "    # df_device.to_csv('database_in_use/设备参数详情表.csv', index=False)\n",
    "\n",
    "    df_device.to_csv('data/设备参数详情表.csv', index=False, encoding='utf-8-sig')\n",
    "    df_device.to_csv('database_in_use/设备参数详情表.csv', index=False, encoding='utf-8-sig')\n",
    "\n",
    "\n",
    "# 可能的错误情况及处理建议:\n",
    "# 1. FileNotFoundError: 源文件夹不存在或无法访问\n",
    "# 2. PermissionError: 没有足够的权限读取或写入文件\n",
    "# 3. MemoryError: 文件太大,内存不足\n",
    "# 4. pandas.errors.EmptyDataError: CSV文件为空\n"
   ]
  },
  {
   "cell_type": "code",
   "outputs": [
    {
     "name": "stdout",
     "output_type": "stream",
     "text": [
      "数据处理完成\n"
     ]
    }
   ],
   "source": [
    "\n",
    "# # In[3]:\n",
    "# # %%\n",
    "# # Pre2: Status and Events Detection\n",
    "# # 定义一个函数，将值转换为数值类型，无法转换的返回 -1\n",
    "# def convert_to_numeric(value):\n",
    "#     try:\n",
    "#         return float(value)\n",
    "#     except ValueError:\n",
    "#         return -1\n",
    "# \n",
    "# \n",
    "# # 读取CSV文件\n",
    "# df = pd.read_csv('data/Ajia_plc_1.csv')\n",
    "# # 将 Ajia-3_v 和 Ajia-5_v 列转换为数值类型，无法转换的设为 -1\n",
    "# df['Ajia-3_v'] = df['Ajia-3_v'].apply(convert_to_numeric)\n",
    "# df['Ajia-5_v'] = df['Ajia-5_v'].apply(convert_to_numeric)\n",
    "# # 初始化 status 列，默认值为 'False'\n",
    "# df['status'] = 'False'\n",
    "# df['check_current_presence'] = 'False'\n",
    "# # 遍历每一行，判断设备状态\n",
    "# for i in range(1, df.shape[0]):\n",
    "# \n",
    "#     # 关机条件\n",
    "#     if df.loc[i, 'Ajia-5_v'] == -1 and (df.loc[i - 1, 'Ajia-5_v'] > 0 or df.loc[i - 1, 'Ajia-5_v'] == '0'):\n",
    "#         df.loc[i, 'status'] = '停电'\n",
    "#         # 开机条件\n",
    "#     if df.loc[i - 1, 'Ajia-3_v'] == -1 and (df.loc[i, 'Ajia-3_v'] == 0 or df.loc[i, 'Ajia-3_v'] == '0'):\n",
    "#         df.loc[i, 'status'] = '开机'\n",
    "#     if df.loc[i - 1, 'Ajia-3_v'] == -1 and df.loc[i, 'Ajia-3_v'] > 0:\n",
    "#         df.loc[i, 'status'] = '开机'\n",
    "#     if df.loc[i - 1, 'Ajia-5_v'] == -1 and (df.loc[i, 'Ajia-5_v'] == 0 or df.loc[i, 'Ajia-5_v'] == '0'):\n",
    "#         df.loc[i, 'status'] = '开机'\n",
    "#     # 关机条件\n",
    "#     if df.loc[i, 'Ajia-3_v'] == -1 and (df.loc[i - 1, 'Ajia-3_v'] == 0 or df.loc[i - 1, 'Ajia-3_v'] == '0'):\n",
    "#         df.loc[i, 'status'] = '关机'\n",
    "#     if df.loc[i, 'Ajia-5_v'] == -1 and (df.loc[i - 1, 'Ajia-5_v'] == 0 or df.loc[i - 1, 'Ajia-5_v'] == '0'):\n",
    "#         df.loc[i, 'status'] = '关机'\n",
    "#     if df.loc[i, 'Ajia-5_v'] > 0 and df.loc[i - 1, 'Ajia-5_v'] == -1:\n",
    "#         df.loc[i, 'check_current_presence'] = '有电流'\n",
    "#     if df.loc[i, 'Ajia-5_v'] > 0 and (df.loc[i - 1, 'Ajia-5_v'] == 0 or df.loc[i - 1, 'Ajia-5_v'] == '0'):\n",
    "#         df.loc[i, 'check_current_presence'] = '有电流'\n",
    "#     if df.loc[i, 'Ajia-5_v'] == 0 and (df.loc[i - 1, 'Ajia-5_v'] > 0 or df.loc[i - 1, 'Ajia-5_v'] == '0'):\n",
    "#         df.loc[i, 'check_current_presence'] = '无电流'\n",
    "\n",
    "\n",
    "\n",
    "def process_ajia_data(csv_path):\n",
    "    \"\"\"\n",
    "    处理A架数据，检测设备状态和电流存在情况\n",
    "    \n",
    "    参数:\n",
    "    csv_path: CSV文件路径\n",
    "    \n",
    "    返回:\n",
    "    处理后的DataFrame\n",
    "    \"\"\"\n",
    "    # 1. 读取和基础处理\n",
    "    df = pd.read_csv(csv_path)\n",
    "    \n",
    "    # 2. 定义转换函数\n",
    "    def convert_to_numeric(value):\n",
    "        \"\"\"将值转换为数值类型，无法转换的返回 -1\"\"\"\n",
    "        try:\n",
    "            if isinstance(value, str) and value.strip() == '0':\n",
    "                return 0\n",
    "            return float(value)\n",
    "        except (ValueError, TypeError):\n",
    "            return -1\n",
    "\n",
    "    # 3. 转换数值列\n",
    "    columns_to_convert = ['Ajia-3_v', 'Ajia-5_v']\n",
    "    for col in columns_to_convert:\n",
    "        df[col] = df[col].apply(convert_to_numeric)\n",
    "\n",
    "    # 4. 初始化状态列\n",
    "    df['status'] = 'False'\n",
    "    df['check_current_presence'] = 'False'\n",
    "    \n",
    "    # 5. 处理第一行（索引0）的状态\n",
    "    # 根据第一行的数值确定初始状态\n",
    "    if df.loc[0, 'Ajia-5_v'] > 0:\n",
    "        df.loc[0, 'check_current_presence'] = '有电流'\n",
    "    elif df.loc[0, 'Ajia-5_v'] == 0:\n",
    "        df.loc[0, 'check_current_presence'] = '无电流'\n",
    "    \n",
    "    if df.loc[0, 'Ajia-3_v'] == -1:\n",
    "        df.loc[0, 'status'] = '关机'\n",
    "    else:\n",
    "        df.loc[0, 'status'] = '开机'\n",
    "\n",
    "    # 6. 处理剩余行的状态\n",
    "    for i in range(1, len(df)):\n",
    "        # 获取当前行和前一行的值，提高代码可读性\n",
    "        curr_v3 = df.loc[i, 'Ajia-3_v']\n",
    "        prev_v3 = df.loc[i-1, 'Ajia-3_v']\n",
    "        curr_v5 = df.loc[i, 'Ajia-5_v']\n",
    "        prev_v5 = df.loc[i-1, 'Ajia-5_v']\n",
    "        \n",
    "        # 6.1 电流状态检测\n",
    "        if curr_v5 > 0 and (prev_v5 == -1 or prev_v5 == 0):\n",
    "            df.loc[i, 'check_current_presence'] = '有电流'\n",
    "        elif curr_v5 == 0 and prev_v5 > 0:\n",
    "            df.loc[i, 'check_current_presence'] = '无电流'\n",
    "        else:\n",
    "            # 保持前一个状态\n",
    "            df.loc[i, 'check_current_presence'] = df.loc[i-1, 'check_current_presence']\n",
    "\n",
    "        # 6.2 设备状态检测\n",
    "        # 开机条件\n",
    "        if ((prev_v3 == -1 and (curr_v3 == 0 or curr_v3 > 0)) or\n",
    "            (prev_v5 == -1 and curr_v5 == 0)):\n",
    "            df.loc[i, 'status'] = '开机'\n",
    "        # 关机条件\n",
    "        elif ((curr_v3 == -1 and prev_v3 in [0, '0']) or\n",
    "              (curr_v5 == -1 and prev_v5 in [0, '0'])):\n",
    "            df.loc[i, 'status'] = '关机'\n",
    "        # 停电条件\n",
    "        elif curr_v5 == -1 and prev_v5 > 0:\n",
    "            df.loc[i, 'status'] = '停电'\n",
    "        else:\n",
    "            # 保持前一个状态\n",
    "            df.loc[i, 'status'] = df.loc[i-1, 'status']\n",
    "\n",
    "    # 7. 验证处理结果\n",
    "    # 检查是否有未处理的状态（None值）\n",
    "    unprocessed_status = df['status'].isnull().sum()\n",
    "    unprocessed_current = df['check_current_presence'].isnull().sum()\n",
    "    \n",
    "    if unprocessed_status > 0 or unprocessed_current > 0:\n",
    "        print(f\"警告：存在未处理的状态：\\n\"\n",
    "              f\"status: {unprocessed_status}行\\n\"\n",
    "              f\"check_current_presence: {unprocessed_current}行\")\n",
    "    \n",
    "    return df\n",
    "\n",
    "# 使用方法\n",
    "try:\n",
    "    df = process_ajia_data('data/Ajia_plc_1.csv')\n",
    "    # 保存处理后的数据\n",
    "    df.to_csv('data/Ajia_plc_1_processed.csv', index=False)\n",
    "    print(\"数据处理完成\")\n",
    "except Exception as e:\n",
    "    print(f\"处理过程中发生错误: {e}\")"
   ],
   "metadata": {
    "collapsed": false,
    "ExecuteTime": {
     "end_time": "2025-01-23T09:27:18.808213Z",
     "start_time": "2025-01-23T09:27:02.084212Z"
    }
   },
   "id": "45a4baad630a0ad5",
   "execution_count": 9
  },
  {
   "cell_type": "code",
   "outputs": [],
   "source": [
    "\n",
    "\n",
    "def is_mostly_fifty(L_):\n",
    "    \"\"\"\n",
    "    判断列表中是否大部分数值接近50\n",
    "    \n",
    "    参数:\n",
    "    L_ (list): 包含数值的列表，通常是电流值\n",
    "    \n",
    "    返回:\n",
    "    int: 1 表示大部分值在50-60之间（待机状态），0 表示其他情况\n",
    "    \"\"\"\n",
    "    # 数据过滤与处理\n",
    "    filtered_list = [x for x in L_ if x != 0 and x <= 200]\n",
    "    # 数值标准化\n",
    "    normalized_list = [50 if 50 <= x <= 60 else x for x in filtered_list]\n",
    "    # 统计50的数量\n",
    "    count_50 = normalized_list.count(50)\n",
    "    # 判断占比并返回结果\n",
    "    return 1 if count_50 > len(normalized_list) / 2 else 0\n",
    "\n",
    "    # 初始化变量\n",
    "\n",
    "\n",
    "# 初始化变量\n",
    "start_time = None  # 用于记录开机时间点\n",
    "segments = []      # 用于存储所有完整的开机-关机时间段\n",
    "\n",
    "# 遍历数据框中的每一行记录\n",
    "for index, row in df.iterrows():\n",
    "    # 检测开机事件\n",
    "    if row['status'] == '开机':\n",
    "        start_time = row['csvTime']  # 记录开机时间\n",
    "    # 检测关机事件（必须在有开机记录的情况下）\n",
    "    elif row['status'] == '关机' and start_time is not None:\n",
    "        end_time = row['csvTime']  # 记录关机时间\n",
    "        segments.append((start_time, end_time))  # 保存这个完整周期\n",
    "        start_time = None  # 重置开机时间，准备记录下一个周期"
   ],
   "metadata": {
    "collapsed": false,
    "ExecuteTime": {
     "end_time": "2025-01-23T09:27:20.972185Z",
     "start_time": "2025-01-23T09:27:18.810285Z"
    }
   },
   "id": "981ef903ad4ea582",
   "execution_count": 10
  },
  {
   "cell_type": "code",
   "outputs": [
    {
     "name": "stdout",
     "output_type": "stream",
     "text": [
      "开机时间: 2024-05-16 23:48:50, 关机时间: 2024-05-16 23:49:50\n",
      "事件数量: 2\n",
      "-----------------事件--------------------\n",
      "[0.0, -1.0]\n",
      "-----------------事件--------------------\n"
     ]
    },
    {
     "name": "stderr",
     "output_type": "stream",
     "text": [
      "C:\\Users\\dell\\AppData\\Local\\Temp\\ipykernel_2612\\1784406115.py:576: FutureWarning: In a future version, `df.iloc[:, i] = newvals` will attempt to set the values inplace instead of always setting a new array. To retain the old behavior, use either `df[df.columns[i]] = newvals` or, if columns are non-unique, `df.isetitem(i, newvals)`\n",
      "  events_2.loc[:, 'csvTime'] = pd.to_datetime(events_2['csvTime'])\n"
     ]
    },
    {
     "name": "stdout",
     "output_type": "stream",
     "text": [
      "------------------\n",
      "[]\n",
      "开机时间: 2024-05-17 10:14:50, 关机时间: 2024-05-17 10:15:50\n",
      "事件数量: 2\n",
      "-----------------事件--------------------\n",
      "[0.0, -1.0]\n",
      "-----------------事件--------------------\n"
     ]
    },
    {
     "name": "stderr",
     "output_type": "stream",
     "text": [
      "C:\\Users\\dell\\AppData\\Local\\Temp\\ipykernel_2612\\1784406115.py:576: FutureWarning: In a future version, `df.iloc[:, i] = newvals` will attempt to set the values inplace instead of always setting a new array. To retain the old behavior, use either `df[df.columns[i]] = newvals` or, if columns are non-unique, `df.isetitem(i, newvals)`\n",
      "  events_2.loc[:, 'csvTime'] = pd.to_datetime(events_2['csvTime'])\n"
     ]
    },
    {
     "name": "stdout",
     "output_type": "stream",
     "text": [
      "------------------\n",
      "[]\n",
      "开机时间: 2024-05-17 19:22:50, 关机时间: 2024-05-17 19:23:50\n",
      "事件数量: 2\n",
      "-----------------事件--------------------\n",
      "[0.0, -1.0]\n",
      "-----------------事件--------------------\n"
     ]
    },
    {
     "name": "stderr",
     "output_type": "stream",
     "text": [
      "C:\\Users\\dell\\AppData\\Local\\Temp\\ipykernel_2612\\1784406115.py:576: FutureWarning: In a future version, `df.iloc[:, i] = newvals` will attempt to set the values inplace instead of always setting a new array. To retain the old behavior, use either `df[df.columns[i]] = newvals` or, if columns are non-unique, `df.isetitem(i, newvals)`\n",
      "  events_2.loc[:, 'csvTime'] = pd.to_datetime(events_2['csvTime'])\n"
     ]
    },
    {
     "name": "stdout",
     "output_type": "stream",
     "text": [
      "------------------\n",
      "[]\n",
      "开机时间: 2024-05-18 09:11:50, 关机时间: 2024-05-18 09:12:50\n",
      "事件数量: 2\n",
      "-----------------事件--------------------\n",
      "[0.0, -1.0]\n",
      "-----------------事件--------------------\n"
     ]
    },
    {
     "name": "stderr",
     "output_type": "stream",
     "text": [
      "C:\\Users\\dell\\AppData\\Local\\Temp\\ipykernel_2612\\1784406115.py:576: FutureWarning: In a future version, `df.iloc[:, i] = newvals` will attempt to set the values inplace instead of always setting a new array. To retain the old behavior, use either `df[df.columns[i]] = newvals` or, if columns are non-unique, `df.isetitem(i, newvals)`\n",
      "  events_2.loc[:, 'csvTime'] = pd.to_datetime(events_2['csvTime'])\n"
     ]
    },
    {
     "name": "stdout",
     "output_type": "stream",
     "text": [
      "------------------\n",
      "[]\n",
      "开机时间: 2024-05-18 17:11:50, 关机时间: 2024-05-18 17:12:50\n",
      "事件数量: 2\n",
      "-----------------事件--------------------\n",
      "[0.0, -1.0]\n",
      "-----------------事件--------------------\n"
     ]
    },
    {
     "name": "stderr",
     "output_type": "stream",
     "text": [
      "C:\\Users\\dell\\AppData\\Local\\Temp\\ipykernel_2612\\1784406115.py:576: FutureWarning: In a future version, `df.iloc[:, i] = newvals` will attempt to set the values inplace instead of always setting a new array. To retain the old behavior, use either `df[df.columns[i]] = newvals` or, if columns are non-unique, `df.isetitem(i, newvals)`\n",
      "  events_2.loc[:, 'csvTime'] = pd.to_datetime(events_2['csvTime'])\n"
     ]
    },
    {
     "name": "stdout",
     "output_type": "stream",
     "text": [
      "------------------\n",
      "[]\n",
      "开机时间: 2024-05-19 15:38:50, 关机时间: 2024-05-19 15:39:50\n",
      "事件数量: 2\n",
      "-----------------事件--------------------\n",
      "[0.0, -1.0]\n",
      "-----------------事件--------------------\n"
     ]
    },
    {
     "name": "stderr",
     "output_type": "stream",
     "text": [
      "C:\\Users\\dell\\AppData\\Local\\Temp\\ipykernel_2612\\1784406115.py:576: FutureWarning: In a future version, `df.iloc[:, i] = newvals` will attempt to set the values inplace instead of always setting a new array. To retain the old behavior, use either `df[df.columns[i]] = newvals` or, if columns are non-unique, `df.isetitem(i, newvals)`\n",
      "  events_2.loc[:, 'csvTime'] = pd.to_datetime(events_2['csvTime'])\n"
     ]
    },
    {
     "name": "stdout",
     "output_type": "stream",
     "text": [
      "------------------\n",
      "[]\n",
      "开机时间: 2024-05-19 17:23:50, 关机时间: 2024-05-19 17:24:50\n",
      "事件数量: 2\n",
      "-----------------事件--------------------\n",
      "[0.0, -1.0]\n",
      "-----------------事件--------------------\n"
     ]
    },
    {
     "name": "stderr",
     "output_type": "stream",
     "text": [
      "C:\\Users\\dell\\AppData\\Local\\Temp\\ipykernel_2612\\1784406115.py:576: FutureWarning: In a future version, `df.iloc[:, i] = newvals` will attempt to set the values inplace instead of always setting a new array. To retain the old behavior, use either `df[df.columns[i]] = newvals` or, if columns are non-unique, `df.isetitem(i, newvals)`\n",
      "  events_2.loc[:, 'csvTime'] = pd.to_datetime(events_2['csvTime'])\n"
     ]
    },
    {
     "name": "stdout",
     "output_type": "stream",
     "text": [
      "------------------\n",
      "[]\n",
      "开机时间: 2024-05-20 07:34:50, 关机时间: 2024-05-20 07:35:50\n",
      "事件数量: 2\n",
      "-----------------事件--------------------\n",
      "[0.0, -1.0]\n",
      "-----------------事件--------------------\n"
     ]
    },
    {
     "name": "stderr",
     "output_type": "stream",
     "text": [
      "C:\\Users\\dell\\AppData\\Local\\Temp\\ipykernel_2612\\1784406115.py:576: FutureWarning: In a future version, `df.iloc[:, i] = newvals` will attempt to set the values inplace instead of always setting a new array. To retain the old behavior, use either `df[df.columns[i]] = newvals` or, if columns are non-unique, `df.isetitem(i, newvals)`\n",
      "  events_2.loc[:, 'csvTime'] = pd.to_datetime(events_2['csvTime'])\n"
     ]
    },
    {
     "name": "stdout",
     "output_type": "stream",
     "text": [
      "------------------\n",
      "[]\n",
      "开机时间: 2024-05-20 12:58:50, 关机时间: 2024-05-20 17:00:50\n",
      "事件数量: 2\n",
      "-----------------事件--------------------\n",
      "[56.6317, -1.0]\n",
      "-----------------事件--------------------\n"
     ]
    },
    {
     "name": "stderr",
     "output_type": "stream",
     "text": [
      "C:\\Users\\dell\\AppData\\Local\\Temp\\ipykernel_2612\\1784406115.py:576: FutureWarning: In a future version, `df.iloc[:, i] = newvals` will attempt to set the values inplace instead of always setting a new array. To retain the old behavior, use either `df[df.columns[i]] = newvals` or, if columns are non-unique, `df.isetitem(i, newvals)`\n",
      "  events_2.loc[:, 'csvTime'] = pd.to_datetime(events_2['csvTime'])\n"
     ]
    },
    {
     "name": "stdout",
     "output_type": "stream",
     "text": [
      "------------------\n",
      "[]\n",
      "开机时间: 2024-05-21 12:22:49, 关机时间: 2024-05-21 12:23:49\n",
      "事件数量: 2\n",
      "-----------------事件--------------------\n",
      "[0.0, -1.0]\n",
      "-----------------事件--------------------\n"
     ]
    },
    {
     "name": "stderr",
     "output_type": "stream",
     "text": [
      "C:\\Users\\dell\\AppData\\Local\\Temp\\ipykernel_2612\\1784406115.py:576: FutureWarning: In a future version, `df.iloc[:, i] = newvals` will attempt to set the values inplace instead of always setting a new array. To retain the old behavior, use either `df[df.columns[i]] = newvals` or, if columns are non-unique, `df.isetitem(i, newvals)`\n",
      "  events_2.loc[:, 'csvTime'] = pd.to_datetime(events_2['csvTime'])\n"
     ]
    },
    {
     "name": "stdout",
     "output_type": "stream",
     "text": [
      "------------------\n",
      "[]\n",
      "开机时间: 2024-05-21 16:58:49, 关机时间: 2024-05-21 18:00:49\n",
      "事件数量: 2\n",
      "-----------------事件--------------------\n",
      "[56.2301, -1.0]\n",
      "-----------------事件--------------------\n"
     ]
    },
    {
     "name": "stderr",
     "output_type": "stream",
     "text": [
      "C:\\Users\\dell\\AppData\\Local\\Temp\\ipykernel_2612\\1784406115.py:576: FutureWarning: In a future version, `df.iloc[:, i] = newvals` will attempt to set the values inplace instead of always setting a new array. To retain the old behavior, use either `df[df.columns[i]] = newvals` or, if columns are non-unique, `df.isetitem(i, newvals)`\n",
      "  events_2.loc[:, 'csvTime'] = pd.to_datetime(events_2['csvTime'])\n"
     ]
    },
    {
     "name": "stdout",
     "output_type": "stream",
     "text": [
      "------------------\n",
      "[]\n",
      "开机时间: 2024-05-21 18:19:49, 关机时间: 2024-05-21 18:20:49\n",
      "事件数量: 2\n",
      "-----------------事件--------------------\n",
      "[0.0, -1.0]\n",
      "-----------------事件--------------------\n"
     ]
    },
    {
     "name": "stderr",
     "output_type": "stream",
     "text": [
      "C:\\Users\\dell\\AppData\\Local\\Temp\\ipykernel_2612\\1784406115.py:576: FutureWarning: In a future version, `df.iloc[:, i] = newvals` will attempt to set the values inplace instead of always setting a new array. To retain the old behavior, use either `df[df.columns[i]] = newvals` or, if columns are non-unique, `df.isetitem(i, newvals)`\n",
      "  events_2.loc[:, 'csvTime'] = pd.to_datetime(events_2['csvTime'])\n"
     ]
    },
    {
     "name": "stdout",
     "output_type": "stream",
     "text": [
      "------------------\n",
      "[]\n",
      "开机时间: 2024-05-22 09:17:49, 关机时间: 2024-05-22 09:18:49\n",
      "事件数量: 2\n",
      "-----------------事件--------------------\n",
      "[0.0, -1.0]\n",
      "-----------------事件--------------------\n"
     ]
    },
    {
     "name": "stderr",
     "output_type": "stream",
     "text": [
      "C:\\Users\\dell\\AppData\\Local\\Temp\\ipykernel_2612\\1784406115.py:576: FutureWarning: In a future version, `df.iloc[:, i] = newvals` will attempt to set the values inplace instead of always setting a new array. To retain the old behavior, use either `df[df.columns[i]] = newvals` or, if columns are non-unique, `df.isetitem(i, newvals)`\n",
      "  events_2.loc[:, 'csvTime'] = pd.to_datetime(events_2['csvTime'])\n"
     ]
    },
    {
     "name": "stdout",
     "output_type": "stream",
     "text": [
      "------------------\n",
      "[]\n",
      "开机时间: 2024-05-23 01:45:49, 关机时间: 2024-05-23 01:46:49\n",
      "事件数量: 2\n",
      "-----------------事件--------------------\n",
      "[0.0, -1.0]\n",
      "-----------------事件--------------------\n"
     ]
    },
    {
     "name": "stderr",
     "output_type": "stream",
     "text": [
      "C:\\Users\\dell\\AppData\\Local\\Temp\\ipykernel_2612\\1784406115.py:576: FutureWarning: In a future version, `df.iloc[:, i] = newvals` will attempt to set the values inplace instead of always setting a new array. To retain the old behavior, use either `df[df.columns[i]] = newvals` or, if columns are non-unique, `df.isetitem(i, newvals)`\n",
      "  events_2.loc[:, 'csvTime'] = pd.to_datetime(events_2['csvTime'])\n"
     ]
    },
    {
     "name": "stdout",
     "output_type": "stream",
     "text": [
      "------------------\n",
      "[]\n",
      "开机时间: 2024-05-23 11:34:49, 关机时间: 2024-05-23 11:35:49\n",
      "事件数量: 2\n",
      "-----------------事件--------------------\n",
      "[0.0, -1.0]\n",
      "-----------------事件--------------------\n"
     ]
    },
    {
     "name": "stderr",
     "output_type": "stream",
     "text": [
      "C:\\Users\\dell\\AppData\\Local\\Temp\\ipykernel_2612\\1784406115.py:576: FutureWarning: In a future version, `df.iloc[:, i] = newvals` will attempt to set the values inplace instead of always setting a new array. To retain the old behavior, use either `df[df.columns[i]] = newvals` or, if columns are non-unique, `df.isetitem(i, newvals)`\n",
      "  events_2.loc[:, 'csvTime'] = pd.to_datetime(events_2['csvTime'])\n"
     ]
    },
    {
     "name": "stdout",
     "output_type": "stream",
     "text": [
      "------------------\n",
      "[]\n",
      "开机时间: 2024-05-23 22:45:49, 关机时间: 2024-05-23 22:46:49\n",
      "事件数量: 2\n",
      "-----------------事件--------------------\n",
      "[0.0, -1.0]\n",
      "-----------------事件--------------------\n"
     ]
    },
    {
     "name": "stderr",
     "output_type": "stream",
     "text": [
      "C:\\Users\\dell\\AppData\\Local\\Temp\\ipykernel_2612\\1784406115.py:576: FutureWarning: In a future version, `df.iloc[:, i] = newvals` will attempt to set the values inplace instead of always setting a new array. To retain the old behavior, use either `df[df.columns[i]] = newvals` or, if columns are non-unique, `df.isetitem(i, newvals)`\n",
      "  events_2.loc[:, 'csvTime'] = pd.to_datetime(events_2['csvTime'])\n"
     ]
    },
    {
     "name": "stdout",
     "output_type": "stream",
     "text": [
      "------------------\n",
      "[]\n",
      "开机时间: 2024-05-24 05:58:49, 关机时间: 2024-05-24 14:00:49\n",
      "事件数量: 2\n",
      "-----------------事件--------------------\n",
      "[0.0, -1.0]\n",
      "-----------------事件--------------------\n"
     ]
    },
    {
     "name": "stderr",
     "output_type": "stream",
     "text": [
      "C:\\Users\\dell\\AppData\\Local\\Temp\\ipykernel_2612\\1784406115.py:576: FutureWarning: In a future version, `df.iloc[:, i] = newvals` will attempt to set the values inplace instead of always setting a new array. To retain the old behavior, use either `df[df.columns[i]] = newvals` or, if columns are non-unique, `df.isetitem(i, newvals)`\n",
      "  events_2.loc[:, 'csvTime'] = pd.to_datetime(events_2['csvTime'])\n"
     ]
    },
    {
     "name": "stdout",
     "output_type": "stream",
     "text": [
      "------------------\n",
      "[]\n",
      "开机时间: 2024-05-24 23:31:49, 关机时间: 2024-05-24 23:32:49\n",
      "事件数量: 2\n",
      "-----------------事件--------------------\n",
      "[0.0, -1.0]\n",
      "-----------------事件--------------------\n"
     ]
    },
    {
     "name": "stderr",
     "output_type": "stream",
     "text": [
      "C:\\Users\\dell\\AppData\\Local\\Temp\\ipykernel_2612\\1784406115.py:576: FutureWarning: In a future version, `df.iloc[:, i] = newvals` will attempt to set the values inplace instead of always setting a new array. To retain the old behavior, use either `df[df.columns[i]] = newvals` or, if columns are non-unique, `df.isetitem(i, newvals)`\n",
      "  events_2.loc[:, 'csvTime'] = pd.to_datetime(events_2['csvTime'])\n"
     ]
    },
    {
     "name": "stdout",
     "output_type": "stream",
     "text": [
      "------------------\n",
      "[]\n",
      "开机时间: 2024-05-25 09:09:49, 关机时间: 2024-05-25 09:10:49\n",
      "事件数量: 2\n",
      "-----------------事件--------------------\n",
      "[0.0, -1.0]\n",
      "-----------------事件--------------------\n"
     ]
    },
    {
     "name": "stderr",
     "output_type": "stream",
     "text": [
      "C:\\Users\\dell\\AppData\\Local\\Temp\\ipykernel_2612\\1784406115.py:576: FutureWarning: In a future version, `df.iloc[:, i] = newvals` will attempt to set the values inplace instead of always setting a new array. To retain the old behavior, use either `df[df.columns[i]] = newvals` or, if columns are non-unique, `df.isetitem(i, newvals)`\n",
      "  events_2.loc[:, 'csvTime'] = pd.to_datetime(events_2['csvTime'])\n"
     ]
    },
    {
     "name": "stdout",
     "output_type": "stream",
     "text": [
      "------------------\n",
      "[]\n",
      "开机时间: 2024-05-25 17:21:49, 关机时间: 2024-05-25 17:22:49\n",
      "事件数量: 2\n",
      "-----------------事件--------------------\n",
      "[0.0, -1.0]\n",
      "-----------------事件--------------------\n"
     ]
    },
    {
     "name": "stderr",
     "output_type": "stream",
     "text": [
      "C:\\Users\\dell\\AppData\\Local\\Temp\\ipykernel_2612\\1784406115.py:576: FutureWarning: In a future version, `df.iloc[:, i] = newvals` will attempt to set the values inplace instead of always setting a new array. To retain the old behavior, use either `df[df.columns[i]] = newvals` or, if columns are non-unique, `df.isetitem(i, newvals)`\n",
      "  events_2.loc[:, 'csvTime'] = pd.to_datetime(events_2['csvTime'])\n"
     ]
    },
    {
     "name": "stdout",
     "output_type": "stream",
     "text": [
      "------------------\n",
      "[]\n",
      "开机时间: 2024-05-25 19:58:49, 关机时间: 2024-05-25 23:00:49\n",
      "事件数量: 2\n",
      "-----------------事件--------------------\n",
      "[0.0, -1.0]\n",
      "-----------------事件--------------------\n"
     ]
    },
    {
     "name": "stderr",
     "output_type": "stream",
     "text": [
      "C:\\Users\\dell\\AppData\\Local\\Temp\\ipykernel_2612\\1784406115.py:576: FutureWarning: In a future version, `df.iloc[:, i] = newvals` will attempt to set the values inplace instead of always setting a new array. To retain the old behavior, use either `df[df.columns[i]] = newvals` or, if columns are non-unique, `df.isetitem(i, newvals)`\n",
      "  events_2.loc[:, 'csvTime'] = pd.to_datetime(events_2['csvTime'])\n"
     ]
    },
    {
     "name": "stdout",
     "output_type": "stream",
     "text": [
      "------------------\n",
      "[]\n",
      "开机时间: 2024-05-26 09:38:49, 关机时间: 2024-05-26 09:39:49\n",
      "事件数量: 2\n",
      "-----------------事件--------------------\n",
      "[0.0, -1.0]\n",
      "-----------------事件--------------------\n"
     ]
    },
    {
     "name": "stderr",
     "output_type": "stream",
     "text": [
      "C:\\Users\\dell\\AppData\\Local\\Temp\\ipykernel_2612\\1784406115.py:576: FutureWarning: In a future version, `df.iloc[:, i] = newvals` will attempt to set the values inplace instead of always setting a new array. To retain the old behavior, use either `df[df.columns[i]] = newvals` or, if columns are non-unique, `df.isetitem(i, newvals)`\n",
      "  events_2.loc[:, 'csvTime'] = pd.to_datetime(events_2['csvTime'])\n"
     ]
    },
    {
     "name": "stdout",
     "output_type": "stream",
     "text": [
      "------------------\n",
      "[]\n",
      "开机时间: 2024-05-26 17:22:48, 关机时间: 2024-05-26 17:23:48\n",
      "事件数量: 2\n",
      "-----------------事件--------------------\n",
      "[0.0, -1.0]\n",
      "-----------------事件--------------------\n"
     ]
    },
    {
     "name": "stderr",
     "output_type": "stream",
     "text": [
      "C:\\Users\\dell\\AppData\\Local\\Temp\\ipykernel_2612\\1784406115.py:576: FutureWarning: In a future version, `df.iloc[:, i] = newvals` will attempt to set the values inplace instead of always setting a new array. To retain the old behavior, use either `df[df.columns[i]] = newvals` or, if columns are non-unique, `df.isetitem(i, newvals)`\n",
      "  events_2.loc[:, 'csvTime'] = pd.to_datetime(events_2['csvTime'])\n"
     ]
    },
    {
     "name": "stdout",
     "output_type": "stream",
     "text": [
      "------------------\n",
      "[]\n",
      "开机时间: 2024-05-27 09:46:48, 关机时间: 2024-05-27 09:47:48\n",
      "事件数量: 2\n",
      "-----------------事件--------------------\n",
      "[0.0, -1.0]\n",
      "-----------------事件--------------------\n"
     ]
    },
    {
     "name": "stderr",
     "output_type": "stream",
     "text": [
      "C:\\Users\\dell\\AppData\\Local\\Temp\\ipykernel_2612\\1784406115.py:576: FutureWarning: In a future version, `df.iloc[:, i] = newvals` will attempt to set the values inplace instead of always setting a new array. To retain the old behavior, use either `df[df.columns[i]] = newvals` or, if columns are non-unique, `df.isetitem(i, newvals)`\n",
      "  events_2.loc[:, 'csvTime'] = pd.to_datetime(events_2['csvTime'])\n"
     ]
    },
    {
     "name": "stdout",
     "output_type": "stream",
     "text": [
      "------------------\n",
      "[]\n",
      "开机时间: 2024-05-27 19:20:48, 关机时间: 2024-05-27 19:21:48\n",
      "事件数量: 2\n",
      "-----------------事件--------------------\n",
      "[0.0, -1.0]\n",
      "-----------------事件--------------------\n"
     ]
    },
    {
     "name": "stderr",
     "output_type": "stream",
     "text": [
      "C:\\Users\\dell\\AppData\\Local\\Temp\\ipykernel_2612\\1784406115.py:576: FutureWarning: In a future version, `df.iloc[:, i] = newvals` will attempt to set the values inplace instead of always setting a new array. To retain the old behavior, use either `df[df.columns[i]] = newvals` or, if columns are non-unique, `df.isetitem(i, newvals)`\n",
      "  events_2.loc[:, 'csvTime'] = pd.to_datetime(events_2['csvTime'])\n"
     ]
    },
    {
     "name": "stdout",
     "output_type": "stream",
     "text": [
      "------------------\n",
      "[]\n",
      "开机时间: 2024-05-28 08:57:48, 关机时间: 2024-05-28 08:58:48\n",
      "事件数量: 2\n",
      "-----------------事件--------------------\n",
      "[0.0, -1.0]\n",
      "-----------------事件--------------------\n"
     ]
    },
    {
     "name": "stderr",
     "output_type": "stream",
     "text": [
      "C:\\Users\\dell\\AppData\\Local\\Temp\\ipykernel_2612\\1784406115.py:576: FutureWarning: In a future version, `df.iloc[:, i] = newvals` will attempt to set the values inplace instead of always setting a new array. To retain the old behavior, use either `df[df.columns[i]] = newvals` or, if columns are non-unique, `df.isetitem(i, newvals)`\n",
      "  events_2.loc[:, 'csvTime'] = pd.to_datetime(events_2['csvTime'])\n"
     ]
    },
    {
     "name": "stdout",
     "output_type": "stream",
     "text": [
      "------------------\n",
      "[]\n",
      "开机时间: 2024-05-28 18:53:48, 关机时间: 2024-05-28 18:54:48\n",
      "事件数量: 2\n",
      "-----------------事件--------------------\n",
      "[0.0, -1.0]\n",
      "-----------------事件--------------------\n"
     ]
    },
    {
     "name": "stderr",
     "output_type": "stream",
     "text": [
      "C:\\Users\\dell\\AppData\\Local\\Temp\\ipykernel_2612\\1784406115.py:576: FutureWarning: In a future version, `df.iloc[:, i] = newvals` will attempt to set the values inplace instead of always setting a new array. To retain the old behavior, use either `df[df.columns[i]] = newvals` or, if columns are non-unique, `df.isetitem(i, newvals)`\n",
      "  events_2.loc[:, 'csvTime'] = pd.to_datetime(events_2['csvTime'])\n"
     ]
    },
    {
     "name": "stdout",
     "output_type": "stream",
     "text": [
      "------------------\n",
      "[]\n",
      "开机时间: 2024-05-29 09:05:48, 关机时间: 2024-05-29 09:06:48\n",
      "事件数量: 2\n",
      "-----------------事件--------------------\n",
      "[0.0, -1.0]\n",
      "-----------------事件--------------------\n"
     ]
    },
    {
     "name": "stderr",
     "output_type": "stream",
     "text": [
      "C:\\Users\\dell\\AppData\\Local\\Temp\\ipykernel_2612\\1784406115.py:576: FutureWarning: In a future version, `df.iloc[:, i] = newvals` will attempt to set the values inplace instead of always setting a new array. To retain the old behavior, use either `df[df.columns[i]] = newvals` or, if columns are non-unique, `df.isetitem(i, newvals)`\n",
      "  events_2.loc[:, 'csvTime'] = pd.to_datetime(events_2['csvTime'])\n"
     ]
    },
    {
     "name": "stdout",
     "output_type": "stream",
     "text": [
      "------------------\n",
      "[]\n",
      "开机时间: 2024-08-15 08:53:27, 关机时间: 2024-08-15 08:54:27\n",
      "事件数量: 2\n",
      "-----------------事件--------------------\n",
      "[0.0, -1.0]\n",
      "-----------------事件--------------------\n"
     ]
    },
    {
     "name": "stderr",
     "output_type": "stream",
     "text": [
      "C:\\Users\\dell\\AppData\\Local\\Temp\\ipykernel_2612\\1784406115.py:576: FutureWarning: In a future version, `df.iloc[:, i] = newvals` will attempt to set the values inplace instead of always setting a new array. To retain the old behavior, use either `df[df.columns[i]] = newvals` or, if columns are non-unique, `df.isetitem(i, newvals)`\n",
      "  events_2.loc[:, 'csvTime'] = pd.to_datetime(events_2['csvTime'])\n"
     ]
    },
    {
     "name": "stdout",
     "output_type": "stream",
     "text": [
      "------------------\n",
      "[]\n",
      "开机时间: 2024-08-16 08:08:27, 关机时间: 2024-08-16 08:09:27\n",
      "事件数量: 2\n",
      "-----------------事件--------------------\n",
      "[0.0, -1.0]\n",
      "-----------------事件--------------------\n"
     ]
    },
    {
     "name": "stderr",
     "output_type": "stream",
     "text": [
      "C:\\Users\\dell\\AppData\\Local\\Temp\\ipykernel_2612\\1784406115.py:576: FutureWarning: In a future version, `df.iloc[:, i] = newvals` will attempt to set the values inplace instead of always setting a new array. To retain the old behavior, use either `df[df.columns[i]] = newvals` or, if columns are non-unique, `df.isetitem(i, newvals)`\n",
      "  events_2.loc[:, 'csvTime'] = pd.to_datetime(events_2['csvTime'])\n"
     ]
    },
    {
     "name": "stdout",
     "output_type": "stream",
     "text": [
      "------------------\n",
      "[]\n",
      "开机时间: 2024-08-17 09:37:27, 关机时间: 2024-08-17 09:38:27\n",
      "事件数量: 2\n",
      "-----------------事件--------------------\n",
      "[0.0, -1.0]\n",
      "-----------------事件--------------------\n"
     ]
    },
    {
     "name": "stderr",
     "output_type": "stream",
     "text": [
      "C:\\Users\\dell\\AppData\\Local\\Temp\\ipykernel_2612\\1784406115.py:576: FutureWarning: In a future version, `df.iloc[:, i] = newvals` will attempt to set the values inplace instead of always setting a new array. To retain the old behavior, use either `df[df.columns[i]] = newvals` or, if columns are non-unique, `df.isetitem(i, newvals)`\n",
      "  events_2.loc[:, 'csvTime'] = pd.to_datetime(events_2['csvTime'])\n"
     ]
    },
    {
     "name": "stdout",
     "output_type": "stream",
     "text": [
      "------------------\n",
      "[]\n",
      "开机时间: 2024-08-18 09:07:27, 关机时间: 2024-08-18 09:08:27\n",
      "事件数量: 2\n",
      "-----------------事件--------------------\n",
      "[0.0, -1.0]\n",
      "-----------------事件--------------------\n"
     ]
    },
    {
     "name": "stderr",
     "output_type": "stream",
     "text": [
      "C:\\Users\\dell\\AppData\\Local\\Temp\\ipykernel_2612\\1784406115.py:576: FutureWarning: In a future version, `df.iloc[:, i] = newvals` will attempt to set the values inplace instead of always setting a new array. To retain the old behavior, use either `df[df.columns[i]] = newvals` or, if columns are non-unique, `df.isetitem(i, newvals)`\n",
      "  events_2.loc[:, 'csvTime'] = pd.to_datetime(events_2['csvTime'])\n"
     ]
    },
    {
     "name": "stdout",
     "output_type": "stream",
     "text": [
      "------------------\n",
      "[]\n",
      "开机时间: 2024-08-19 08:53:27, 关机时间: 2024-08-19 08:54:27\n",
      "事件数量: 2\n",
      "-----------------事件--------------------\n",
      "[0.0, -1.0]\n",
      "-----------------事件--------------------\n"
     ]
    },
    {
     "name": "stderr",
     "output_type": "stream",
     "text": [
      "C:\\Users\\dell\\AppData\\Local\\Temp\\ipykernel_2612\\1784406115.py:576: FutureWarning: In a future version, `df.iloc[:, i] = newvals` will attempt to set the values inplace instead of always setting a new array. To retain the old behavior, use either `df[df.columns[i]] = newvals` or, if columns are non-unique, `df.isetitem(i, newvals)`\n",
      "  events_2.loc[:, 'csvTime'] = pd.to_datetime(events_2['csvTime'])\n"
     ]
    },
    {
     "name": "stdout",
     "output_type": "stream",
     "text": [
      "------------------\n",
      "[]\n",
      "开机时间: 2024-08-19 14:41:27, 关机时间: 2024-08-19 14:42:27\n",
      "事件数量: 2\n",
      "-----------------事件--------------------\n",
      "[0.0, -1.0]\n",
      "-----------------事件--------------------\n"
     ]
    },
    {
     "name": "stderr",
     "output_type": "stream",
     "text": [
      "C:\\Users\\dell\\AppData\\Local\\Temp\\ipykernel_2612\\1784406115.py:576: FutureWarning: In a future version, `df.iloc[:, i] = newvals` will attempt to set the values inplace instead of always setting a new array. To retain the old behavior, use either `df[df.columns[i]] = newvals` or, if columns are non-unique, `df.isetitem(i, newvals)`\n",
      "  events_2.loc[:, 'csvTime'] = pd.to_datetime(events_2['csvTime'])\n"
     ]
    },
    {
     "name": "stdout",
     "output_type": "stream",
     "text": [
      "------------------\n",
      "[]\n",
      "开机时间: 2024-08-19 23:12:27, 关机时间: 2024-08-19 23:13:27\n",
      "事件数量: 2\n",
      "-----------------事件--------------------\n",
      "[0.0, -1.0]\n",
      "-----------------事件--------------------\n"
     ]
    },
    {
     "name": "stderr",
     "output_type": "stream",
     "text": [
      "C:\\Users\\dell\\AppData\\Local\\Temp\\ipykernel_2612\\1784406115.py:576: FutureWarning: In a future version, `df.iloc[:, i] = newvals` will attempt to set the values inplace instead of always setting a new array. To retain the old behavior, use either `df[df.columns[i]] = newvals` or, if columns are non-unique, `df.isetitem(i, newvals)`\n",
      "  events_2.loc[:, 'csvTime'] = pd.to_datetime(events_2['csvTime'])\n"
     ]
    },
    {
     "name": "stdout",
     "output_type": "stream",
     "text": [
      "----------------LLM预测的列表---------------------\n",
      "[0.0, -1.0]\n",
      "你非常细心，通过仔细给定观察序列数据电流变化，尽可能正确返回三个值。\n",
      "例如：\n",
      "电流变化序列数据：\n",
      "[0.0, 0.0, 0.0, 0.0, 0.0, 57.0048, 56.8545, 61.9802, 56.8646, 56.8705, 56.777, 68.3751, 56.5526, 56.6556, 63.1736, 68.4542, 78.2151, 86.3214, 82.7017, 58.9111, 56.632, 56.9142, 56.6583, 0.0, 0.0, 0.0, 0.0, 0.0, 0.0, 0.0, 0.0, 0.0, 0.0, 0.0, 0.0, 0.0, 0.0, 0.0, 0.0, 0.0, 0.0, 0.0, 0.0, 0.0, 0.0, 0.0, 0.0, 0.0, 0.0, 56.2542, 56.2177, 56.1263, 56.2697, 56.102, 59.5568, 57.5703, 57.6415, 56.9307, 57.0531, 56.9337, 58.582, 58.0159, 104.238, 96.6301, 97.1496, 56.5543, 63.426, 57.6552, 56.6086, 56.6611, 56.5601, 56.6476, 56.68, 0.0, 0.0, 0.0, 0.0, 0.0, -1.0]\n",
      "在这里面寻找三个值返回结果：\n",
      "[86.3214,104.238,56.5543]\n",
      "返回依据解释：\n",
      "第一个值为 非最后一段非零数据的峰值，同时满足必须为80以上；\n",
      "第二个值为后面一段非零数据的峰值，一般要为90以上；\n",
      "第三个值 要小于60，峰值回落至小于60的值,并且要在第二个值后面。\n",
      "三个值均不考虑大于200异常数据\n",
      "\n",
      "\n",
      "现有一组新的电流变化序列数据：\n",
      "[0.0, -1.0]\n",
      "请参照样例和解释依据，新的电流变化序列数据可能会有一些噪声，你自己仔细思考判断，思考完成后，不需要返回思考过程，以列表形式返回三个值,,回答中只有列表。。\n",
      "----------------预测的值---------------------\n",
      "-100 -100 -100\n",
      "------------------\n",
      "[]\n",
      "开机时间: 2024-08-20 07:03:09, 关机时间: 2024-08-20 07:04:09\n",
      "事件数量: 2\n",
      "-----------------事件--------------------\n",
      "[0.0, -1.0]\n",
      "-----------------事件--------------------\n"
     ]
    },
    {
     "name": "stderr",
     "output_type": "stream",
     "text": [
      "C:\\Users\\dell\\AppData\\Local\\Temp\\ipykernel_2612\\1784406115.py:576: FutureWarning: In a future version, `df.iloc[:, i] = newvals` will attempt to set the values inplace instead of always setting a new array. To retain the old behavior, use either `df[df.columns[i]] = newvals` or, if columns are non-unique, `df.isetitem(i, newvals)`\n",
      "  events_2.loc[:, 'csvTime'] = pd.to_datetime(events_2['csvTime'])\n"
     ]
    },
    {
     "name": "stdout",
     "output_type": "stream",
     "text": [
      "------------------\n",
      "[]\n",
      "开机时间: 2024-08-20 18:35:09, 关机时间: 2024-08-20 18:36:09\n",
      "事件数量: 2\n",
      "-----------------事件--------------------\n",
      "[0.0, -1.0]\n",
      "-----------------事件--------------------\n"
     ]
    },
    {
     "name": "stderr",
     "output_type": "stream",
     "text": [
      "C:\\Users\\dell\\AppData\\Local\\Temp\\ipykernel_2612\\1784406115.py:576: FutureWarning: In a future version, `df.iloc[:, i] = newvals` will attempt to set the values inplace instead of always setting a new array. To retain the old behavior, use either `df[df.columns[i]] = newvals` or, if columns are non-unique, `df.isetitem(i, newvals)`\n",
      "  events_2.loc[:, 'csvTime'] = pd.to_datetime(events_2['csvTime'])\n"
     ]
    },
    {
     "name": "stdout",
     "output_type": "stream",
     "text": [
      "------------------\n",
      "[]\n",
      "开机时间: 2024-08-21 08:50:09, 关机时间: 2024-08-21 08:51:09\n",
      "事件数量: 2\n",
      "-----------------事件--------------------\n",
      "[0.0, -1.0]\n",
      "-----------------事件--------------------\n"
     ]
    },
    {
     "name": "stderr",
     "output_type": "stream",
     "text": [
      "C:\\Users\\dell\\AppData\\Local\\Temp\\ipykernel_2612\\1784406115.py:576: FutureWarning: In a future version, `df.iloc[:, i] = newvals` will attempt to set the values inplace instead of always setting a new array. To retain the old behavior, use either `df[df.columns[i]] = newvals` or, if columns are non-unique, `df.isetitem(i, newvals)`\n",
      "  events_2.loc[:, 'csvTime'] = pd.to_datetime(events_2['csvTime'])\n"
     ]
    },
    {
     "name": "stdout",
     "output_type": "stream",
     "text": [
      "------------------\n",
      "[]\n",
      "开机时间: 2024-08-23 10:29:08, 关机时间: 2024-08-23 10:30:08\n",
      "事件数量: 2\n",
      "-----------------事件--------------------\n",
      "[0.0, -1.0]\n",
      "-----------------事件--------------------\n"
     ]
    },
    {
     "name": "stderr",
     "output_type": "stream",
     "text": [
      "C:\\Users\\dell\\AppData\\Local\\Temp\\ipykernel_2612\\1784406115.py:576: FutureWarning: In a future version, `df.iloc[:, i] = newvals` will attempt to set the values inplace instead of always setting a new array. To retain the old behavior, use either `df[df.columns[i]] = newvals` or, if columns are non-unique, `df.isetitem(i, newvals)`\n",
      "  events_2.loc[:, 'csvTime'] = pd.to_datetime(events_2['csvTime'])\n"
     ]
    },
    {
     "name": "stdout",
     "output_type": "stream",
     "text": [
      "------------------\n",
      "[]\n",
      "开机时间: 2024-08-23 19:17:08, 关机时间: 2024-08-23 19:18:08\n",
      "事件数量: 2\n",
      "-----------------事件--------------------\n",
      "[0.0, -1.0]\n",
      "-----------------事件--------------------\n"
     ]
    },
    {
     "name": "stderr",
     "output_type": "stream",
     "text": [
      "C:\\Users\\dell\\AppData\\Local\\Temp\\ipykernel_2612\\1784406115.py:576: FutureWarning: In a future version, `df.iloc[:, i] = newvals` will attempt to set the values inplace instead of always setting a new array. To retain the old behavior, use either `df[df.columns[i]] = newvals` or, if columns are non-unique, `df.isetitem(i, newvals)`\n",
      "  events_2.loc[:, 'csvTime'] = pd.to_datetime(events_2['csvTime'])\n"
     ]
    },
    {
     "name": "stdout",
     "output_type": "stream",
     "text": [
      "------------------\n",
      "[]\n",
      "开机时间: 2024-08-24 09:08:08, 关机时间: 2024-08-24 09:09:08\n",
      "事件数量: 2\n",
      "-----------------事件--------------------\n",
      "[0.0, -1.0]\n",
      "-----------------事件--------------------\n"
     ]
    },
    {
     "name": "stderr",
     "output_type": "stream",
     "text": [
      "C:\\Users\\dell\\AppData\\Local\\Temp\\ipykernel_2612\\1784406115.py:576: FutureWarning: In a future version, `df.iloc[:, i] = newvals` will attempt to set the values inplace instead of always setting a new array. To retain the old behavior, use either `df[df.columns[i]] = newvals` or, if columns are non-unique, `df.isetitem(i, newvals)`\n",
      "  events_2.loc[:, 'csvTime'] = pd.to_datetime(events_2['csvTime'])\n"
     ]
    },
    {
     "name": "stdout",
     "output_type": "stream",
     "text": [
      "------------------\n",
      "[]\n",
      "开机时间: 2024-08-24 17:40:08, 关机时间: 2024-08-24 17:41:08\n",
      "事件数量: 2\n",
      "-----------------事件--------------------\n",
      "[0.0, -1.0]\n",
      "-----------------事件--------------------\n"
     ]
    },
    {
     "name": "stderr",
     "output_type": "stream",
     "text": [
      "C:\\Users\\dell\\AppData\\Local\\Temp\\ipykernel_2612\\1784406115.py:576: FutureWarning: In a future version, `df.iloc[:, i] = newvals` will attempt to set the values inplace instead of always setting a new array. To retain the old behavior, use either `df[df.columns[i]] = newvals` or, if columns are non-unique, `df.isetitem(i, newvals)`\n",
      "  events_2.loc[:, 'csvTime'] = pd.to_datetime(events_2['csvTime'])\n"
     ]
    },
    {
     "name": "stdout",
     "output_type": "stream",
     "text": [
      "------------------\n",
      "[]\n",
      "开机时间: 2024-08-25 08:54:08, 关机时间: 2024-08-25 08:55:08\n",
      "事件数量: 2\n",
      "-----------------事件--------------------\n",
      "[0.0, -1.0]\n",
      "-----------------事件--------------------\n"
     ]
    },
    {
     "name": "stderr",
     "output_type": "stream",
     "text": [
      "C:\\Users\\dell\\AppData\\Local\\Temp\\ipykernel_2612\\1784406115.py:576: FutureWarning: In a future version, `df.iloc[:, i] = newvals` will attempt to set the values inplace instead of always setting a new array. To retain the old behavior, use either `df[df.columns[i]] = newvals` or, if columns are non-unique, `df.isetitem(i, newvals)`\n",
      "  events_2.loc[:, 'csvTime'] = pd.to_datetime(events_2['csvTime'])\n"
     ]
    },
    {
     "name": "stdout",
     "output_type": "stream",
     "text": [
      "------------------\n",
      "[]\n",
      "开机时间: 2024-08-25 17:30:08, 关机时间: 2024-08-25 17:31:08\n",
      "事件数量: 2\n",
      "-----------------事件--------------------\n",
      "[0.0, -1.0]\n",
      "-----------------事件--------------------\n"
     ]
    },
    {
     "name": "stderr",
     "output_type": "stream",
     "text": [
      "C:\\Users\\dell\\AppData\\Local\\Temp\\ipykernel_2612\\1784406115.py:576: FutureWarning: In a future version, `df.iloc[:, i] = newvals` will attempt to set the values inplace instead of always setting a new array. To retain the old behavior, use either `df[df.columns[i]] = newvals` or, if columns are non-unique, `df.isetitem(i, newvals)`\n",
      "  events_2.loc[:, 'csvTime'] = pd.to_datetime(events_2['csvTime'])\n"
     ]
    },
    {
     "name": "stdout",
     "output_type": "stream",
     "text": [
      "------------------\n",
      "[]\n",
      "开机时间: 2024-08-26 09:07:08, 关机时间: 2024-08-26 09:08:08\n",
      "事件数量: 2\n",
      "-----------------事件--------------------\n",
      "[0.0, -1.0]\n",
      "-----------------事件--------------------\n"
     ]
    },
    {
     "name": "stderr",
     "output_type": "stream",
     "text": [
      "C:\\Users\\dell\\AppData\\Local\\Temp\\ipykernel_2612\\1784406115.py:576: FutureWarning: In a future version, `df.iloc[:, i] = newvals` will attempt to set the values inplace instead of always setting a new array. To retain the old behavior, use either `df[df.columns[i]] = newvals` or, if columns are non-unique, `df.isetitem(i, newvals)`\n",
      "  events_2.loc[:, 'csvTime'] = pd.to_datetime(events_2['csvTime'])\n"
     ]
    },
    {
     "name": "stdout",
     "output_type": "stream",
     "text": [
      "------------------\n",
      "[]\n",
      "开机时间: 2024-08-26 16:58:08, 关机时间: 2024-08-26 18:00:08\n",
      "事件数量: 2\n",
      "-----------------事件--------------------\n",
      "[0.0, -1.0]\n",
      "-----------------事件--------------------\n"
     ]
    },
    {
     "name": "stderr",
     "output_type": "stream",
     "text": [
      "C:\\Users\\dell\\AppData\\Local\\Temp\\ipykernel_2612\\1784406115.py:576: FutureWarning: In a future version, `df.iloc[:, i] = newvals` will attempt to set the values inplace instead of always setting a new array. To retain the old behavior, use either `df[df.columns[i]] = newvals` or, if columns are non-unique, `df.isetitem(i, newvals)`\n",
      "  events_2.loc[:, 'csvTime'] = pd.to_datetime(events_2['csvTime'])\n"
     ]
    },
    {
     "name": "stdout",
     "output_type": "stream",
     "text": [
      "------------------\n",
      "[]\n",
      "开机时间: 2024-08-27 09:29:08, 关机时间: 2024-08-27 09:30:08\n",
      "事件数量: 2\n",
      "-----------------事件--------------------\n",
      "[0.0, -1.0]\n",
      "-----------------事件--------------------\n"
     ]
    },
    {
     "name": "stderr",
     "output_type": "stream",
     "text": [
      "C:\\Users\\dell\\AppData\\Local\\Temp\\ipykernel_2612\\1784406115.py:576: FutureWarning: In a future version, `df.iloc[:, i] = newvals` will attempt to set the values inplace instead of always setting a new array. To retain the old behavior, use either `df[df.columns[i]] = newvals` or, if columns are non-unique, `df.isetitem(i, newvals)`\n",
      "  events_2.loc[:, 'csvTime'] = pd.to_datetime(events_2['csvTime'])\n"
     ]
    },
    {
     "name": "stdout",
     "output_type": "stream",
     "text": [
      "------------------\n",
      "[]\n",
      "开机时间: 2024-08-27 17:24:08, 关机时间: 2024-08-27 17:25:08\n",
      "事件数量: 2\n",
      "-----------------事件--------------------\n",
      "[0.0, -1.0]\n",
      "-----------------事件--------------------\n"
     ]
    },
    {
     "name": "stderr",
     "output_type": "stream",
     "text": [
      "C:\\Users\\dell\\AppData\\Local\\Temp\\ipykernel_2612\\1784406115.py:576: FutureWarning: In a future version, `df.iloc[:, i] = newvals` will attempt to set the values inplace instead of always setting a new array. To retain the old behavior, use either `df[df.columns[i]] = newvals` or, if columns are non-unique, `df.isetitem(i, newvals)`\n",
      "  events_2.loc[:, 'csvTime'] = pd.to_datetime(events_2['csvTime'])\n"
     ]
    },
    {
     "name": "stdout",
     "output_type": "stream",
     "text": [
      "------------------\n",
      "[]\n",
      "开机时间: 2024-08-28 09:02:07, 关机时间: 2024-08-28 09:03:07\n",
      "事件数量: 2\n",
      "-----------------事件--------------------\n",
      "[0.0, -1.0]\n",
      "-----------------事件--------------------\n"
     ]
    },
    {
     "name": "stderr",
     "output_type": "stream",
     "text": [
      "C:\\Users\\dell\\AppData\\Local\\Temp\\ipykernel_2612\\1784406115.py:576: FutureWarning: In a future version, `df.iloc[:, i] = newvals` will attempt to set the values inplace instead of always setting a new array. To retain the old behavior, use either `df[df.columns[i]] = newvals` or, if columns are non-unique, `df.isetitem(i, newvals)`\n",
      "  events_2.loc[:, 'csvTime'] = pd.to_datetime(events_2['csvTime'])\n"
     ]
    },
    {
     "name": "stdout",
     "output_type": "stream",
     "text": [
      "------------------\n",
      "[]\n",
      "开机时间: 2024-08-30 15:58:07, 关机时间: 2024-08-30 17:00:07\n",
      "事件数量: 2\n",
      "-----------------事件--------------------\n",
      "[69.0601, -1.0]\n",
      "-----------------事件--------------------\n"
     ]
    },
    {
     "name": "stderr",
     "output_type": "stream",
     "text": [
      "C:\\Users\\dell\\AppData\\Local\\Temp\\ipykernel_2612\\1784406115.py:576: FutureWarning: In a future version, `df.iloc[:, i] = newvals` will attempt to set the values inplace instead of always setting a new array. To retain the old behavior, use either `df[df.columns[i]] = newvals` or, if columns are non-unique, `df.isetitem(i, newvals)`\n",
      "  events_2.loc[:, 'csvTime'] = pd.to_datetime(events_2['csvTime'])\n"
     ]
    },
    {
     "name": "stdout",
     "output_type": "stream",
     "text": [
      "------------------\n",
      "[]\n",
      "开机时间: 2024-08-30 22:58:07, 关机时间: 2024-08-30 23:00:07\n",
      "事件数量: 2\n",
      "-----------------事件--------------------\n",
      "[0.0, -1.0]\n",
      "-----------------事件--------------------\n"
     ]
    },
    {
     "name": "stderr",
     "output_type": "stream",
     "text": [
      "C:\\Users\\dell\\AppData\\Local\\Temp\\ipykernel_2612\\1784406115.py:576: FutureWarning: In a future version, `df.iloc[:, i] = newvals` will attempt to set the values inplace instead of always setting a new array. To retain the old behavior, use either `df[df.columns[i]] = newvals` or, if columns are non-unique, `df.isetitem(i, newvals)`\n",
      "  events_2.loc[:, 'csvTime'] = pd.to_datetime(events_2['csvTime'])\n"
     ]
    },
    {
     "name": "stdout",
     "output_type": "stream",
     "text": [
      "------------------\n",
      "[]\n",
      "开机时间: 2024-08-31 07:29:07, 关机时间: 2024-08-31 07:30:07\n",
      "事件数量: 2\n",
      "-----------------事件--------------------\n",
      "[0.0, -1.0]\n",
      "-----------------事件--------------------\n"
     ]
    },
    {
     "name": "stderr",
     "output_type": "stream",
     "text": [
      "C:\\Users\\dell\\AppData\\Local\\Temp\\ipykernel_2612\\1784406115.py:576: FutureWarning: In a future version, `df.iloc[:, i] = newvals` will attempt to set the values inplace instead of always setting a new array. To retain the old behavior, use either `df[df.columns[i]] = newvals` or, if columns are non-unique, `df.isetitem(i, newvals)`\n",
      "  events_2.loc[:, 'csvTime'] = pd.to_datetime(events_2['csvTime'])\n"
     ]
    },
    {
     "name": "stdout",
     "output_type": "stream",
     "text": [
      "------------------\n",
      "[]\n",
      "开机时间: 2024-08-31 12:58:07, 关机时间: 2024-08-31 14:00:07\n",
      "事件数量: 2\n",
      "-----------------事件--------------------\n",
      "[0.0, -1.0]\n",
      "-----------------事件--------------------\n"
     ]
    },
    {
     "name": "stderr",
     "output_type": "stream",
     "text": [
      "C:\\Users\\dell\\AppData\\Local\\Temp\\ipykernel_2612\\1784406115.py:576: FutureWarning: In a future version, `df.iloc[:, i] = newvals` will attempt to set the values inplace instead of always setting a new array. To retain the old behavior, use either `df[df.columns[i]] = newvals` or, if columns are non-unique, `df.isetitem(i, newvals)`\n",
      "  events_2.loc[:, 'csvTime'] = pd.to_datetime(events_2['csvTime'])\n"
     ]
    },
    {
     "name": "stdout",
     "output_type": "stream",
     "text": [
      "------------------\n",
      "[]\n",
      "开机时间: 2024-08-31 20:38:07, 关机时间: 2024-08-31 20:39:07\n",
      "事件数量: 2\n",
      "-----------------事件--------------------\n",
      "[0.0, -1.0]\n",
      "-----------------事件--------------------\n"
     ]
    },
    {
     "name": "stderr",
     "output_type": "stream",
     "text": [
      "C:\\Users\\dell\\AppData\\Local\\Temp\\ipykernel_2612\\1784406115.py:576: FutureWarning: In a future version, `df.iloc[:, i] = newvals` will attempt to set the values inplace instead of always setting a new array. To retain the old behavior, use either `df[df.columns[i]] = newvals` or, if columns are non-unique, `df.isetitem(i, newvals)`\n",
      "  events_2.loc[:, 'csvTime'] = pd.to_datetime(events_2['csvTime'])\n"
     ]
    },
    {
     "name": "stdout",
     "output_type": "stream",
     "text": [
      "------------------\n",
      "[]\n",
      "开机时间: 2024-08-31 21:24:07, 关机时间: 2024-08-31 21:25:07\n",
      "事件数量: 2\n",
      "-----------------事件--------------------\n",
      "[0.0, -1.0]\n",
      "-----------------事件--------------------\n"
     ]
    },
    {
     "name": "stderr",
     "output_type": "stream",
     "text": [
      "C:\\Users\\dell\\AppData\\Local\\Temp\\ipykernel_2612\\1784406115.py:576: FutureWarning: In a future version, `df.iloc[:, i] = newvals` will attempt to set the values inplace instead of always setting a new array. To retain the old behavior, use either `df[df.columns[i]] = newvals` or, if columns are non-unique, `df.isetitem(i, newvals)`\n",
      "  events_2.loc[:, 'csvTime'] = pd.to_datetime(events_2['csvTime'])\n"
     ]
    },
    {
     "name": "stdout",
     "output_type": "stream",
     "text": [
      "------------------\n",
      "[]\n",
      "开机时间: 2024-09-01 11:42:07, 关机时间: 2024-09-01 11:43:07\n",
      "事件数量: 2\n",
      "-----------------事件--------------------\n",
      "[0.0, -1.0]\n",
      "-----------------事件--------------------\n"
     ]
    },
    {
     "name": "stderr",
     "output_type": "stream",
     "text": [
      "C:\\Users\\dell\\AppData\\Local\\Temp\\ipykernel_2612\\1784406115.py:576: FutureWarning: In a future version, `df.iloc[:, i] = newvals` will attempt to set the values inplace instead of always setting a new array. To retain the old behavior, use either `df[df.columns[i]] = newvals` or, if columns are non-unique, `df.isetitem(i, newvals)`\n",
      "  events_2.loc[:, 'csvTime'] = pd.to_datetime(events_2['csvTime'])\n"
     ]
    },
    {
     "name": "stdout",
     "output_type": "stream",
     "text": [
      "------------------\n",
      "[]\n",
      "开机时间: 2024-09-01 14:25:07, 关机时间: 2024-09-01 14:26:07\n",
      "事件数量: 2\n",
      "-----------------事件--------------------\n",
      "[0.0, -1.0]\n",
      "-----------------事件--------------------\n"
     ]
    },
    {
     "name": "stderr",
     "output_type": "stream",
     "text": [
      "C:\\Users\\dell\\AppData\\Local\\Temp\\ipykernel_2612\\1784406115.py:576: FutureWarning: In a future version, `df.iloc[:, i] = newvals` will attempt to set the values inplace instead of always setting a new array. To retain the old behavior, use either `df[df.columns[i]] = newvals` or, if columns are non-unique, `df.isetitem(i, newvals)`\n",
      "  events_2.loc[:, 'csvTime'] = pd.to_datetime(events_2['csvTime'])\n"
     ]
    },
    {
     "name": "stdout",
     "output_type": "stream",
     "text": [
      "------------------\n",
      "[]\n",
      "开机时间: 2024-09-01 16:55:07, 关机时间: 2024-09-01 16:56:07\n",
      "事件数量: 2\n",
      "-----------------事件--------------------\n",
      "[0.0, -1.0]\n",
      "-----------------事件--------------------\n"
     ]
    },
    {
     "name": "stderr",
     "output_type": "stream",
     "text": [
      "C:\\Users\\dell\\AppData\\Local\\Temp\\ipykernel_2612\\1784406115.py:576: FutureWarning: In a future version, `df.iloc[:, i] = newvals` will attempt to set the values inplace instead of always setting a new array. To retain the old behavior, use either `df[df.columns[i]] = newvals` or, if columns are non-unique, `df.isetitem(i, newvals)`\n",
      "  events_2.loc[:, 'csvTime'] = pd.to_datetime(events_2['csvTime'])\n"
     ]
    },
    {
     "name": "stdout",
     "output_type": "stream",
     "text": [
      "------------------\n",
      "[]\n",
      "开机时间: 2024-09-02 09:36:07, 关机时间: 2024-09-02 09:37:07\n",
      "事件数量: 2\n",
      "-----------------事件--------------------\n",
      "[0.0, -1.0]\n",
      "-----------------事件--------------------\n"
     ]
    },
    {
     "name": "stderr",
     "output_type": "stream",
     "text": [
      "C:\\Users\\dell\\AppData\\Local\\Temp\\ipykernel_2612\\1784406115.py:576: FutureWarning: In a future version, `df.iloc[:, i] = newvals` will attempt to set the values inplace instead of always setting a new array. To retain the old behavior, use either `df[df.columns[i]] = newvals` or, if columns are non-unique, `df.isetitem(i, newvals)`\n",
      "  events_2.loc[:, 'csvTime'] = pd.to_datetime(events_2['csvTime'])\n"
     ]
    },
    {
     "name": "stdout",
     "output_type": "stream",
     "text": [
      "------------------\n",
      "[]\n",
      "开机时间: 2024-09-02 10:36:07, 关机时间: 2024-09-02 10:37:07\n",
      "事件数量: 2\n",
      "-----------------事件--------------------\n",
      "[0.0, -1.0]\n",
      "-----------------事件--------------------\n"
     ]
    },
    {
     "name": "stderr",
     "output_type": "stream",
     "text": [
      "C:\\Users\\dell\\AppData\\Local\\Temp\\ipykernel_2612\\1784406115.py:576: FutureWarning: In a future version, `df.iloc[:, i] = newvals` will attempt to set the values inplace instead of always setting a new array. To retain the old behavior, use either `df[df.columns[i]] = newvals` or, if columns are non-unique, `df.isetitem(i, newvals)`\n",
      "  events_2.loc[:, 'csvTime'] = pd.to_datetime(events_2['csvTime'])\n"
     ]
    },
    {
     "name": "stdout",
     "output_type": "stream",
     "text": [
      "------------------\n",
      "[]\n",
      "开机时间: 2024-09-03 08:00:57, 关机时间: 2024-09-03 08:01:57\n",
      "事件数量: 2\n",
      "-----------------事件--------------------\n",
      "[0.0, -1.0]\n",
      "-----------------事件--------------------\n"
     ]
    },
    {
     "name": "stderr",
     "output_type": "stream",
     "text": [
      "C:\\Users\\dell\\AppData\\Local\\Temp\\ipykernel_2612\\1784406115.py:576: FutureWarning: In a future version, `df.iloc[:, i] = newvals` will attempt to set the values inplace instead of always setting a new array. To retain the old behavior, use either `df[df.columns[i]] = newvals` or, if columns are non-unique, `df.isetitem(i, newvals)`\n",
      "  events_2.loc[:, 'csvTime'] = pd.to_datetime(events_2['csvTime'])\n"
     ]
    },
    {
     "name": "stdout",
     "output_type": "stream",
     "text": [
      "------------------\n",
      "[]\n",
      "开机时间: 2024-09-03 09:08:57, 关机时间: 2024-09-03 09:09:57\n",
      "事件数量: 2\n",
      "-----------------事件--------------------\n",
      "[56.8067, -1.0]\n",
      "-----------------事件--------------------\n"
     ]
    },
    {
     "name": "stderr",
     "output_type": "stream",
     "text": [
      "C:\\Users\\dell\\AppData\\Local\\Temp\\ipykernel_2612\\1784406115.py:576: FutureWarning: In a future version, `df.iloc[:, i] = newvals` will attempt to set the values inplace instead of always setting a new array. To retain the old behavior, use either `df[df.columns[i]] = newvals` or, if columns are non-unique, `df.isetitem(i, newvals)`\n",
      "  events_2.loc[:, 'csvTime'] = pd.to_datetime(events_2['csvTime'])\n"
     ]
    },
    {
     "name": "stdout",
     "output_type": "stream",
     "text": [
      "------------------\n",
      "[]\n",
      "开机时间: 2024-09-03 09:21:57, 关机时间: 2024-09-03 09:22:57\n",
      "事件数量: 2\n",
      "-----------------事件--------------------\n",
      "[0.0, -1.0]\n",
      "-----------------事件--------------------\n"
     ]
    },
    {
     "name": "stderr",
     "output_type": "stream",
     "text": [
      "C:\\Users\\dell\\AppData\\Local\\Temp\\ipykernel_2612\\1784406115.py:576: FutureWarning: In a future version, `df.iloc[:, i] = newvals` will attempt to set the values inplace instead of always setting a new array. To retain the old behavior, use either `df[df.columns[i]] = newvals` or, if columns are non-unique, `df.isetitem(i, newvals)`\n",
      "  events_2.loc[:, 'csvTime'] = pd.to_datetime(events_2['csvTime'])\n"
     ]
    },
    {
     "name": "stdout",
     "output_type": "stream",
     "text": [
      "------------------\n",
      "[]\n",
      "开机时间: 2024-09-03 09:54:57, 关机时间: 2024-09-03 09:55:57\n",
      "事件数量: 2\n",
      "-----------------事件--------------------\n",
      "[0.0, -1.0]\n",
      "-----------------事件--------------------\n"
     ]
    },
    {
     "name": "stderr",
     "output_type": "stream",
     "text": [
      "C:\\Users\\dell\\AppData\\Local\\Temp\\ipykernel_2612\\1784406115.py:576: FutureWarning: In a future version, `df.iloc[:, i] = newvals` will attempt to set the values inplace instead of always setting a new array. To retain the old behavior, use either `df[df.columns[i]] = newvals` or, if columns are non-unique, `df.isetitem(i, newvals)`\n",
      "  events_2.loc[:, 'csvTime'] = pd.to_datetime(events_2['csvTime'])\n"
     ]
    },
    {
     "name": "stdout",
     "output_type": "stream",
     "text": [
      "------------------\n",
      "[]\n",
      "开机时间: 2024-09-03 10:21:57, 关机时间: 2024-09-03 10:22:57\n",
      "事件数量: 2\n",
      "-----------------事件--------------------\n",
      "[0.0, -1.0]\n",
      "-----------------事件--------------------\n"
     ]
    },
    {
     "name": "stderr",
     "output_type": "stream",
     "text": [
      "C:\\Users\\dell\\AppData\\Local\\Temp\\ipykernel_2612\\1784406115.py:576: FutureWarning: In a future version, `df.iloc[:, i] = newvals` will attempt to set the values inplace instead of always setting a new array. To retain the old behavior, use either `df[df.columns[i]] = newvals` or, if columns are non-unique, `df.isetitem(i, newvals)`\n",
      "  events_2.loc[:, 'csvTime'] = pd.to_datetime(events_2['csvTime'])\n"
     ]
    },
    {
     "name": "stdout",
     "output_type": "stream",
     "text": [
      "------------------\n",
      "[]\n",
      "开机时间: 2024-09-03 17:25:57, 关机时间: 2024-09-03 17:26:57\n",
      "事件数量: 2\n",
      "-----------------事件--------------------\n",
      "[0.0, -1.0]\n",
      "-----------------事件--------------------\n"
     ]
    },
    {
     "name": "stderr",
     "output_type": "stream",
     "text": [
      "C:\\Users\\dell\\AppData\\Local\\Temp\\ipykernel_2612\\1784406115.py:576: FutureWarning: In a future version, `df.iloc[:, i] = newvals` will attempt to set the values inplace instead of always setting a new array. To retain the old behavior, use either `df[df.columns[i]] = newvals` or, if columns are non-unique, `df.isetitem(i, newvals)`\n",
      "  events_2.loc[:, 'csvTime'] = pd.to_datetime(events_2['csvTime'])\n"
     ]
    },
    {
     "name": "stdout",
     "output_type": "stream",
     "text": [
      "------------------\n",
      "[]\n",
      "开机时间: 2024-09-03 23:05:57, 关机时间: 2024-09-03 23:06:57\n",
      "事件数量: 2\n",
      "-----------------事件--------------------\n",
      "[0.0, -1.0]\n",
      "-----------------事件--------------------\n"
     ]
    },
    {
     "name": "stderr",
     "output_type": "stream",
     "text": [
      "C:\\Users\\dell\\AppData\\Local\\Temp\\ipykernel_2612\\1784406115.py:576: FutureWarning: In a future version, `df.iloc[:, i] = newvals` will attempt to set the values inplace instead of always setting a new array. To retain the old behavior, use either `df[df.columns[i]] = newvals` or, if columns are non-unique, `df.isetitem(i, newvals)`\n",
      "  events_2.loc[:, 'csvTime'] = pd.to_datetime(events_2['csvTime'])\n"
     ]
    },
    {
     "name": "stdout",
     "output_type": "stream",
     "text": [
      "------------------\n",
      "[]\n",
      "开机时间: 2024-09-04 07:34:57, 关机时间: 2024-09-04 07:35:57\n",
      "事件数量: 2\n",
      "-----------------事件--------------------\n",
      "[0.0, -1.0]\n",
      "-----------------事件--------------------\n"
     ]
    },
    {
     "name": "stderr",
     "output_type": "stream",
     "text": [
      "C:\\Users\\dell\\AppData\\Local\\Temp\\ipykernel_2612\\1784406115.py:576: FutureWarning: In a future version, `df.iloc[:, i] = newvals` will attempt to set the values inplace instead of always setting a new array. To retain the old behavior, use either `df[df.columns[i]] = newvals` or, if columns are non-unique, `df.isetitem(i, newvals)`\n",
      "  events_2.loc[:, 'csvTime'] = pd.to_datetime(events_2['csvTime'])\n"
     ]
    },
    {
     "name": "stdout",
     "output_type": "stream",
     "text": [
      "------------------\n",
      "[]\n",
      "开机时间: 2024-09-04 13:32:57, 关机时间: 2024-09-04 13:33:57\n",
      "事件数量: 2\n",
      "-----------------事件--------------------\n",
      "[0.0, -1.0]\n",
      "-----------------事件--------------------\n"
     ]
    },
    {
     "name": "stderr",
     "output_type": "stream",
     "text": [
      "C:\\Users\\dell\\AppData\\Local\\Temp\\ipykernel_2612\\1784406115.py:576: FutureWarning: In a future version, `df.iloc[:, i] = newvals` will attempt to set the values inplace instead of always setting a new array. To retain the old behavior, use either `df[df.columns[i]] = newvals` or, if columns are non-unique, `df.isetitem(i, newvals)`\n",
      "  events_2.loc[:, 'csvTime'] = pd.to_datetime(events_2['csvTime'])\n"
     ]
    },
    {
     "name": "stdout",
     "output_type": "stream",
     "text": [
      "------------------\n",
      "[]\n",
      "开机时间: 2024-09-04 14:53:57, 关机时间: 2024-09-04 14:54:57\n",
      "事件数量: 2\n",
      "-----------------事件--------------------\n",
      "[0.0, -1.0]\n",
      "-----------------事件--------------------\n"
     ]
    },
    {
     "name": "stderr",
     "output_type": "stream",
     "text": [
      "C:\\Users\\dell\\AppData\\Local\\Temp\\ipykernel_2612\\1784406115.py:576: FutureWarning: In a future version, `df.iloc[:, i] = newvals` will attempt to set the values inplace instead of always setting a new array. To retain the old behavior, use either `df[df.columns[i]] = newvals` or, if columns are non-unique, `df.isetitem(i, newvals)`\n",
      "  events_2.loc[:, 'csvTime'] = pd.to_datetime(events_2['csvTime'])\n"
     ]
    },
    {
     "name": "stdout",
     "output_type": "stream",
     "text": [
      "------------------\n",
      "[]\n",
      "开机时间: 2024-09-04 23:49:57, 关机时间: 2024-09-04 23:50:57\n",
      "事件数量: 2\n",
      "-----------------事件--------------------\n",
      "[0.0, -1.0]\n",
      "-----------------事件--------------------\n"
     ]
    },
    {
     "name": "stderr",
     "output_type": "stream",
     "text": [
      "C:\\Users\\dell\\AppData\\Local\\Temp\\ipykernel_2612\\1784406115.py:576: FutureWarning: In a future version, `df.iloc[:, i] = newvals` will attempt to set the values inplace instead of always setting a new array. To retain the old behavior, use either `df[df.columns[i]] = newvals` or, if columns are non-unique, `df.isetitem(i, newvals)`\n",
      "  events_2.loc[:, 'csvTime'] = pd.to_datetime(events_2['csvTime'])\n"
     ]
    },
    {
     "name": "stdout",
     "output_type": "stream",
     "text": [
      "------------------\n",
      "[]\n",
      "开机时间: 2024-09-05 09:21:57, 关机时间: 2024-09-05 09:22:57\n",
      "事件数量: 2\n",
      "-----------------事件--------------------\n",
      "[0.0, -1.0]\n",
      "-----------------事件--------------------\n"
     ]
    },
    {
     "name": "stderr",
     "output_type": "stream",
     "text": [
      "C:\\Users\\dell\\AppData\\Local\\Temp\\ipykernel_2612\\1784406115.py:576: FutureWarning: In a future version, `df.iloc[:, i] = newvals` will attempt to set the values inplace instead of always setting a new array. To retain the old behavior, use either `df[df.columns[i]] = newvals` or, if columns are non-unique, `df.isetitem(i, newvals)`\n",
      "  events_2.loc[:, 'csvTime'] = pd.to_datetime(events_2['csvTime'])\n"
     ]
    },
    {
     "name": "stdout",
     "output_type": "stream",
     "text": [
      "------------------\n",
      "[]\n",
      "开机时间: 2024-09-07 08:28:56, 关机时间: 2024-09-07 08:29:57\n",
      "事件数量: 2\n",
      "-----------------事件--------------------\n",
      "[0.0, -1.0]\n",
      "-----------------事件--------------------\n"
     ]
    },
    {
     "name": "stderr",
     "output_type": "stream",
     "text": [
      "C:\\Users\\dell\\AppData\\Local\\Temp\\ipykernel_2612\\1784406115.py:576: FutureWarning: In a future version, `df.iloc[:, i] = newvals` will attempt to set the values inplace instead of always setting a new array. To retain the old behavior, use either `df[df.columns[i]] = newvals` or, if columns are non-unique, `df.isetitem(i, newvals)`\n",
      "  events_2.loc[:, 'csvTime'] = pd.to_datetime(events_2['csvTime'])\n"
     ]
    },
    {
     "name": "stdout",
     "output_type": "stream",
     "text": [
      "------------------\n",
      "[]\n",
      "开机时间: 2024-09-07 23:17:56, 关机时间: 2024-09-07 23:18:56\n",
      "事件数量: 2\n",
      "-----------------事件--------------------\n",
      "[0.0, -1.0]\n",
      "-----------------事件--------------------\n"
     ]
    },
    {
     "name": "stderr",
     "output_type": "stream",
     "text": [
      "C:\\Users\\dell\\AppData\\Local\\Temp\\ipykernel_2612\\1784406115.py:576: FutureWarning: In a future version, `df.iloc[:, i] = newvals` will attempt to set the values inplace instead of always setting a new array. To retain the old behavior, use either `df[df.columns[i]] = newvals` or, if columns are non-unique, `df.isetitem(i, newvals)`\n",
      "  events_2.loc[:, 'csvTime'] = pd.to_datetime(events_2['csvTime'])\n"
     ]
    },
    {
     "name": "stdout",
     "output_type": "stream",
     "text": [
      "------------------\n",
      "[]\n",
      "开机时间: 2024-09-08 06:58:56, 关机时间: 2024-09-08 08:00:56\n",
      "事件数量: 2\n",
      "-----------------事件--------------------\n",
      "[55.7835, -1.0]\n",
      "-----------------事件--------------------\n"
     ]
    },
    {
     "name": "stderr",
     "output_type": "stream",
     "text": [
      "C:\\Users\\dell\\AppData\\Local\\Temp\\ipykernel_2612\\1784406115.py:576: FutureWarning: In a future version, `df.iloc[:, i] = newvals` will attempt to set the values inplace instead of always setting a new array. To retain the old behavior, use either `df[df.columns[i]] = newvals` or, if columns are non-unique, `df.isetitem(i, newvals)`\n",
      "  events_2.loc[:, 'csvTime'] = pd.to_datetime(events_2['csvTime'])\n"
     ]
    },
    {
     "name": "stdout",
     "output_type": "stream",
     "text": [
      "------------------\n",
      "[]\n",
      "开机时间: 2024-09-08 11:57:56, 关机时间: 2024-09-08 11:58:56\n",
      "事件数量: 2\n",
      "-----------------事件--------------------\n",
      "[0.0, -1.0]\n",
      "-----------------事件--------------------\n"
     ]
    },
    {
     "name": "stderr",
     "output_type": "stream",
     "text": [
      "C:\\Users\\dell\\AppData\\Local\\Temp\\ipykernel_2612\\1784406115.py:576: FutureWarning: In a future version, `df.iloc[:, i] = newvals` will attempt to set the values inplace instead of always setting a new array. To retain the old behavior, use either `df[df.columns[i]] = newvals` or, if columns are non-unique, `df.isetitem(i, newvals)`\n",
      "  events_2.loc[:, 'csvTime'] = pd.to_datetime(events_2['csvTime'])\n"
     ]
    },
    {
     "name": "stdout",
     "output_type": "stream",
     "text": [
      "------------------\n",
      "[]\n",
      "开机时间: 2024-09-08 14:00:56, 关机时间: 2024-09-08 14:01:56\n",
      "事件数量: 2\n",
      "-----------------事件--------------------\n",
      "[0.0, -1.0]\n",
      "-----------------事件--------------------\n"
     ]
    },
    {
     "name": "stderr",
     "output_type": "stream",
     "text": [
      "C:\\Users\\dell\\AppData\\Local\\Temp\\ipykernel_2612\\1784406115.py:576: FutureWarning: In a future version, `df.iloc[:, i] = newvals` will attempt to set the values inplace instead of always setting a new array. To retain the old behavior, use either `df[df.columns[i]] = newvals` or, if columns are non-unique, `df.isetitem(i, newvals)`\n",
      "  events_2.loc[:, 'csvTime'] = pd.to_datetime(events_2['csvTime'])\n"
     ]
    },
    {
     "name": "stdout",
     "output_type": "stream",
     "text": [
      "------------------\n",
      "[]\n",
      "开机时间: 2024-09-08 22:22:56, 关机时间: 2024-09-08 22:23:56\n",
      "事件数量: 2\n",
      "-----------------事件--------------------\n",
      "[0.0, -1.0]\n",
      "-----------------事件--------------------\n"
     ]
    },
    {
     "name": "stderr",
     "output_type": "stream",
     "text": [
      "C:\\Users\\dell\\AppData\\Local\\Temp\\ipykernel_2612\\1784406115.py:576: FutureWarning: In a future version, `df.iloc[:, i] = newvals` will attempt to set the values inplace instead of always setting a new array. To retain the old behavior, use either `df[df.columns[i]] = newvals` or, if columns are non-unique, `df.isetitem(i, newvals)`\n",
      "  events_2.loc[:, 'csvTime'] = pd.to_datetime(events_2['csvTime'])\n"
     ]
    },
    {
     "name": "stdout",
     "output_type": "stream",
     "text": [
      "------------------\n",
      "[]\n",
      "开机时间: 2024-09-10 07:35:56, 关机时间: 2024-09-10 07:36:56\n",
      "事件数量: 2\n",
      "-----------------事件--------------------\n",
      "[0.0, -1.0]\n",
      "-----------------事件--------------------\n"
     ]
    },
    {
     "name": "stderr",
     "output_type": "stream",
     "text": [
      "C:\\Users\\dell\\AppData\\Local\\Temp\\ipykernel_2612\\1784406115.py:576: FutureWarning: In a future version, `df.iloc[:, i] = newvals` will attempt to set the values inplace instead of always setting a new array. To retain the old behavior, use either `df[df.columns[i]] = newvals` or, if columns are non-unique, `df.isetitem(i, newvals)`\n",
      "  events_2.loc[:, 'csvTime'] = pd.to_datetime(events_2['csvTime'])\n"
     ]
    },
    {
     "name": "stdout",
     "output_type": "stream",
     "text": [
      "------------------\n",
      "[]\n",
      "开机时间: 2024-09-10 15:58:56, 关机时间: 2024-09-10 16:00:56\n",
      "事件数量: 2\n",
      "-----------------事件--------------------\n",
      "[0.0, -1.0]\n",
      "-----------------事件--------------------\n"
     ]
    },
    {
     "name": "stderr",
     "output_type": "stream",
     "text": [
      "C:\\Users\\dell\\AppData\\Local\\Temp\\ipykernel_2612\\1784406115.py:576: FutureWarning: In a future version, `df.iloc[:, i] = newvals` will attempt to set the values inplace instead of always setting a new array. To retain the old behavior, use either `df[df.columns[i]] = newvals` or, if columns are non-unique, `df.isetitem(i, newvals)`\n",
      "  events_2.loc[:, 'csvTime'] = pd.to_datetime(events_2['csvTime'])\n"
     ]
    },
    {
     "name": "stdout",
     "output_type": "stream",
     "text": [
      "------------------\n",
      "[]\n",
      "开机时间: 2024-09-10 23:03:56, 关机时间: 2024-09-10 23:04:56\n",
      "事件数量: 2\n",
      "-----------------事件--------------------\n",
      "[0.0, -1.0]\n",
      "-----------------事件--------------------\n"
     ]
    },
    {
     "name": "stderr",
     "output_type": "stream",
     "text": [
      "C:\\Users\\dell\\AppData\\Local\\Temp\\ipykernel_2612\\1784406115.py:576: FutureWarning: In a future version, `df.iloc[:, i] = newvals` will attempt to set the values inplace instead of always setting a new array. To retain the old behavior, use either `df[df.columns[i]] = newvals` or, if columns are non-unique, `df.isetitem(i, newvals)`\n",
      "  events_2.loc[:, 'csvTime'] = pd.to_datetime(events_2['csvTime'])\n"
     ]
    },
    {
     "name": "stdout",
     "output_type": "stream",
     "text": [
      "------------------\n",
      "[]\n",
      "开机时间: 2024-09-11 07:25:56, 关机时间: 2024-09-11 07:26:56\n",
      "事件数量: 2\n",
      "-----------------事件--------------------\n",
      "[0.0, -1.0]\n",
      "-----------------事件--------------------\n"
     ]
    },
    {
     "name": "stderr",
     "output_type": "stream",
     "text": [
      "C:\\Users\\dell\\AppData\\Local\\Temp\\ipykernel_2612\\1784406115.py:576: FutureWarning: In a future version, `df.iloc[:, i] = newvals` will attempt to set the values inplace instead of always setting a new array. To retain the old behavior, use either `df[df.columns[i]] = newvals` or, if columns are non-unique, `df.isetitem(i, newvals)`\n",
      "  events_2.loc[:, 'csvTime'] = pd.to_datetime(events_2['csvTime'])\n"
     ]
    },
    {
     "name": "stdout",
     "output_type": "stream",
     "text": [
      "------------------\n",
      "[]\n",
      "开机时间: 2024-09-11 12:58:56, 关机时间: 2024-09-11 13:00:56\n",
      "事件数量: 2\n",
      "-----------------事件--------------------\n",
      "[0.0, -1.0]\n",
      "-----------------事件--------------------\n"
     ]
    },
    {
     "name": "stderr",
     "output_type": "stream",
     "text": [
      "C:\\Users\\dell\\AppData\\Local\\Temp\\ipykernel_2612\\1784406115.py:576: FutureWarning: In a future version, `df.iloc[:, i] = newvals` will attempt to set the values inplace instead of always setting a new array. To retain the old behavior, use either `df[df.columns[i]] = newvals` or, if columns are non-unique, `df.isetitem(i, newvals)`\n",
      "  events_2.loc[:, 'csvTime'] = pd.to_datetime(events_2['csvTime'])\n"
     ]
    },
    {
     "name": "stdout",
     "output_type": "stream",
     "text": [
      "------------------\n",
      "[]\n",
      "开机时间: 2024-09-11 17:01:56, 关机时间: 2024-09-11 17:02:56\n",
      "事件数量: 2\n",
      "-----------------事件--------------------\n",
      "[0.0, -1.0]\n",
      "-----------------事件--------------------\n"
     ]
    },
    {
     "name": "stderr",
     "output_type": "stream",
     "text": [
      "C:\\Users\\dell\\AppData\\Local\\Temp\\ipykernel_2612\\1784406115.py:576: FutureWarning: In a future version, `df.iloc[:, i] = newvals` will attempt to set the values inplace instead of always setting a new array. To retain the old behavior, use either `df[df.columns[i]] = newvals` or, if columns are non-unique, `df.isetitem(i, newvals)`\n",
      "  events_2.loc[:, 'csvTime'] = pd.to_datetime(events_2['csvTime'])\n"
     ]
    },
    {
     "name": "stdout",
     "output_type": "stream",
     "text": [
      "------------------\n",
      "[]\n",
      "开机时间: 2024-09-12 16:40:56, 关机时间: 2024-09-12 16:41:56\n",
      "事件数量: 2\n",
      "-----------------事件--------------------\n",
      "[0.0, -1.0]\n",
      "-----------------事件--------------------\n"
     ]
    },
    {
     "name": "stderr",
     "output_type": "stream",
     "text": [
      "C:\\Users\\dell\\AppData\\Local\\Temp\\ipykernel_2612\\1784406115.py:576: FutureWarning: In a future version, `df.iloc[:, i] = newvals` will attempt to set the values inplace instead of always setting a new array. To retain the old behavior, use either `df[df.columns[i]] = newvals` or, if columns are non-unique, `df.isetitem(i, newvals)`\n",
      "  events_2.loc[:, 'csvTime'] = pd.to_datetime(events_2['csvTime'])\n"
     ]
    },
    {
     "name": "stdout",
     "output_type": "stream",
     "text": [
      "------------------\n",
      "[]\n",
      "开机时间: 2024-09-12 16:57:56, 关机时间: 2024-09-12 16:58:56\n",
      "事件数量: 2\n",
      "-----------------事件--------------------\n",
      "[0.0, -1.0]\n",
      "-----------------事件--------------------\n"
     ]
    },
    {
     "name": "stderr",
     "output_type": "stream",
     "text": [
      "C:\\Users\\dell\\AppData\\Local\\Temp\\ipykernel_2612\\1784406115.py:576: FutureWarning: In a future version, `df.iloc[:, i] = newvals` will attempt to set the values inplace instead of always setting a new array. To retain the old behavior, use either `df[df.columns[i]] = newvals` or, if columns are non-unique, `df.isetitem(i, newvals)`\n",
      "  events_2.loc[:, 'csvTime'] = pd.to_datetime(events_2['csvTime'])\n"
     ]
    },
    {
     "name": "stdout",
     "output_type": "stream",
     "text": [
      "------------------\n",
      "[]\n",
      "开机时间: 2024-09-13 09:22:55, 关机时间: 2024-09-13 09:23:55\n",
      "事件数量: 2\n",
      "-----------------事件--------------------\n",
      "[0.0, -1.0]\n",
      "-----------------事件--------------------\n"
     ]
    },
    {
     "name": "stderr",
     "output_type": "stream",
     "text": [
      "C:\\Users\\dell\\AppData\\Local\\Temp\\ipykernel_2612\\1784406115.py:576: FutureWarning: In a future version, `df.iloc[:, i] = newvals` will attempt to set the values inplace instead of always setting a new array. To retain the old behavior, use either `df[df.columns[i]] = newvals` or, if columns are non-unique, `df.isetitem(i, newvals)`\n",
      "  events_2.loc[:, 'csvTime'] = pd.to_datetime(events_2['csvTime'])\n"
     ]
    },
    {
     "name": "stdout",
     "output_type": "stream",
     "text": [
      "------------------\n",
      "[]\n",
      "开机时间: 2024-09-13 10:39:55, 关机时间: 2024-09-13 10:40:55\n",
      "事件数量: 2\n",
      "-----------------事件--------------------\n",
      "[0.0, -1.0]\n",
      "-----------------事件--------------------\n"
     ]
    },
    {
     "name": "stderr",
     "output_type": "stream",
     "text": [
      "C:\\Users\\dell\\AppData\\Local\\Temp\\ipykernel_2612\\1784406115.py:576: FutureWarning: In a future version, `df.iloc[:, i] = newvals` will attempt to set the values inplace instead of always setting a new array. To retain the old behavior, use either `df[df.columns[i]] = newvals` or, if columns are non-unique, `df.isetitem(i, newvals)`\n",
      "  events_2.loc[:, 'csvTime'] = pd.to_datetime(events_2['csvTime'])\n"
     ]
    },
    {
     "name": "stdout",
     "output_type": "stream",
     "text": [
      "------------------\n",
      "[]\n",
      "开机时间: 2024-09-14 09:31:55, 关机时间: 2024-09-14 09:32:55\n",
      "事件数量: 2\n",
      "-----------------事件--------------------\n",
      "[0.0, -1.0]\n",
      "-----------------事件--------------------\n"
     ]
    },
    {
     "name": "stderr",
     "output_type": "stream",
     "text": [
      "C:\\Users\\dell\\AppData\\Local\\Temp\\ipykernel_2612\\1784406115.py:576: FutureWarning: In a future version, `df.iloc[:, i] = newvals` will attempt to set the values inplace instead of always setting a new array. To retain the old behavior, use either `df[df.columns[i]] = newvals` or, if columns are non-unique, `df.isetitem(i, newvals)`\n",
      "  events_2.loc[:, 'csvTime'] = pd.to_datetime(events_2['csvTime'])\n"
     ]
    },
    {
     "name": "stdout",
     "output_type": "stream",
     "text": [
      "------------------\n",
      "[]\n",
      "开机时间: 2024-09-14 11:37:55, 关机时间: 2024-09-14 11:38:55\n",
      "事件数量: 2\n",
      "-----------------事件--------------------\n",
      "[0.0, -1.0]\n",
      "-----------------事件--------------------\n"
     ]
    },
    {
     "name": "stderr",
     "output_type": "stream",
     "text": [
      "C:\\Users\\dell\\AppData\\Local\\Temp\\ipykernel_2612\\1784406115.py:576: FutureWarning: In a future version, `df.iloc[:, i] = newvals` will attempt to set the values inplace instead of always setting a new array. To retain the old behavior, use either `df[df.columns[i]] = newvals` or, if columns are non-unique, `df.isetitem(i, newvals)`\n",
      "  events_2.loc[:, 'csvTime'] = pd.to_datetime(events_2['csvTime'])\n"
     ]
    },
    {
     "name": "stdout",
     "output_type": "stream",
     "text": [
      "------------------\n",
      "[]\n",
      "开机时间: 2024-09-14 15:23:55, 关机时间: 2024-09-14 15:24:55\n",
      "事件数量: 2\n",
      "-----------------事件--------------------\n",
      "[0.0, -1.0]\n",
      "-----------------事件--------------------\n"
     ]
    },
    {
     "name": "stderr",
     "output_type": "stream",
     "text": [
      "C:\\Users\\dell\\AppData\\Local\\Temp\\ipykernel_2612\\1784406115.py:576: FutureWarning: In a future version, `df.iloc[:, i] = newvals` will attempt to set the values inplace instead of always setting a new array. To retain the old behavior, use either `df[df.columns[i]] = newvals` or, if columns are non-unique, `df.isetitem(i, newvals)`\n",
      "  events_2.loc[:, 'csvTime'] = pd.to_datetime(events_2['csvTime'])\n"
     ]
    },
    {
     "name": "stdout",
     "output_type": "stream",
     "text": [
      "------------------\n",
      "[]\n"
     ]
    }
   ],
   "source": [
    "\n",
    "\n",
    "def extract_daily_power_on_times(df):\n",
    "    \"\"\"\n",
    "    从CSV文件中提取一天内有两次开机的第一次和第二次开机时间。\n",
    "\n",
    "    参数:\n",
    "    file_path (str): CSV文件的路径，包含 'csvTime' 和 'status' 列。\n",
    "\n",
    "    返回:\n",
    "    first_start_times (list): 一天内有两次开机的第一次开机时间列表。\n",
    "    second_start_times (list): 一天内有两次开机的第二次开机时间列表。\n",
    "    \"\"\"\n",
    "    # 读取CSV文件\n",
    "    df = df\n",
    "\n",
    "    # 将时间列转换为标准datetime格式\n",
    "    df['csvTime'] = pd.to_datetime(df['csvTime'])\n",
    "    # datetime类型可以进行更精确的时间运算和比较\n",
    "\n",
    "    # 提取日期信息用于分组\n",
    "    df['date'] = df['csvTime'].dt.date\n",
    "    # 这一步将时间戳拆分，只保留日期部分，例如：\n",
    "    # '2024-08-24 09:30:00' -> '2024-08-24'\n",
    "\n",
    "    # 初始化一个字典来存储每天的开机关机时间段\n",
    "    daily_segments = {}\n",
    "    # 数据结构示例：\n",
    "    # {\n",
    "    #     datetime.date(2024, 8, 24): [\n",
    "    #         (datetime('2024-08-24 08:00'), datetime('2024-08-24 11:00')),\n",
    "    #         (datetime('2024-08-24 14:00'), datetime('2024-08-24 17:00'))\n",
    "    #     ],\n",
    "    #     datetime.date(2024, 8, 25): [\n",
    "    #         ...\n",
    "    #     ]\n",
    "    # }\n",
    "    # 遍历每一天的数据\n",
    "    for date, group in df.groupby('date'):\n",
    "        segments = []# 存储当天的开关机时段\n",
    "        start_time = None# 临时存储开机时间\n",
    "\n",
    "        # 遍历每一天的记录\n",
    "        for index, row in group.iterrows():\n",
    "            if row['status'] == '开机':\n",
    "                start_time = row['csvTime']\n",
    "            elif row['status'] == '关机' and start_time is not None:\n",
    "                end_time = row['csvTime']\n",
    "                segments.append((start_time, end_time))#segment里面存储的是元组，每个元组是一次开关机时间段\n",
    "                start_time = None\n",
    "\n",
    "        # 将每天的开机关机时间段存入字典\n",
    "        daily_segments[date] = segments\n",
    "\n",
    "    # 统计每天的开机关机次数\n",
    "    # 示例：{'2024-08-24': 2, '2024-08-25': 1}\n",
    "    daily_counts = {date: len(segments) for date, segments in daily_segments.items()}\n",
    "\n",
    "    # 筛选出一天内有两次开机关机的情况\n",
    "    two_times_days = [date for date, count in daily_counts.items() if count == 2]\n",
    "\n",
    "    # 初始化两个列表来存储第一次和第二次的开机时间\n",
    "    first_start_times = []\n",
    "    second_start_times = []\n",
    "\n",
    "    # 遍历这些日期，提取第一次和第二次的开机时间\n",
    "    for date in two_times_days:\n",
    "        segments = daily_segments[date]\n",
    "        first_start_times.append(segments[0][0])  # 第一次开机时间\n",
    "        second_start_times.append(segments[1][0])  # 第二次开机时间\n",
    "\n",
    "    return first_start_times, second_start_times\n",
    "\n",
    "\n",
    "def find_peaks(data1):\n",
    "    \"\"\"\n",
    "    在数据序列中寻找并返回符合特定条件的峰值\n",
    "    \n",
    "    功能说明：\n",
    "    1. 对原始数据进行预处理，将50-68范围内的值标准化为50\n",
    "    2. 识别局部峰值（比相邻点都大的点）\n",
    "    3. 筛选大于80的峰值\n",
    "    \n",
    "    参数：\n",
    "    data1: List[float/int] - 输入的数值序列\n",
    "    \n",
    "    返回：\n",
    "    Tuple[int, List[float/int]] - (峰值个数, 峰值列表)\n",
    "    \"\"\"\n",
    "    \n",
    "    # 数据预处理\n",
    "    data = [50 if 50 <= num <= 68 else num for num in data1]\n",
    "    # 这一步的详细分解：\n",
    "# 1. 遍历原始数据列表\n",
    "# 2. 对每个数值进行条件判断：\n",
    "#    - 如果数值在[50, 68]范围内 → 转换为50\n",
    "#    - 如果数值在范围外 → 保持原值\n",
    "#\n",
    "# 示例：\n",
    "# 输入：[45, 55, 70, 60, 90]\n",
    "# 输出：[45, 50, 70, 50, 90]\n",
    "    \n",
    "\n",
    "    # 找到峰值\n",
    "    peaks = []\n",
    "    for i in range(1, len(data) - 1):  # 从第二个元素遍历到倒数第二个元素\n",
    "        if data[i] > data[i - 1] and data[i] > data[i + 1]:  # 判断是否为峰值\n",
    "            peaks.append(data[i])  # 只记录峰值值\n",
    "    peaks = [peak for peak in peaks if peak > 80]\n",
    "    # 返回峰值格式和具体的峰值\n",
    "    return len(peaks), peaks\n",
    "\n",
    "\n",
    "def find_first_increasing_value(data):\n",
    "    \"\"\"\n",
    "    找到列表中第一个从稳定值（68以下）开始增加的值。\n",
    "\n",
    "    参数:\n",
    "    data (list): 输入的数值列表。\n",
    "\n",
    "    返回:\n",
    "    tuple: 第一个大于68的值及其索引。如果未找到，返回 (None, None)。\n",
    "    \"\"\"\n",
    "    # 将介于50到68之间的值替换为50\n",
    "    processed_data = [50 if 50 <= num <= 68 else num for num in data]\n",
    "\n",
    "    # 找到第一个大于68的值及其索引\n",
    "    for index, value in enumerate(processed_data):\n",
    "        if value > 68 and value < 300:\n",
    "            return value\n",
    "    # 如果未找到，返回 (None, None)\n",
    "    return 50\n",
    "\n",
    "\n",
    "def find_stable_value(data, peak1, peak2):\n",
    "    \"\"\"\n",
    "    找到两个峰值之间的数据中，回落到稳定值的第一个值。\n",
    "    假设稳定值在 50 到 60 之间。\n",
    "\n",
    "    参数:\n",
    "    data (list): 数据列表\n",
    "    peak1 (float): 第一个峰值\n",
    "    peak2 (float): 第二个峰值\n",
    "\n",
    "    返回:\n",
    "    float or None: 稳定值，如果未找到则返回 None\n",
    "    \"\"\"\n",
    "    # 找到峰值之间的数据\n",
    "    try:\n",
    "        start_index = data.index(peak1)\n",
    "        end_index = data.index(peak2)\n",
    "    except ValueError:\n",
    "        # 如果峰值不在列表中，返回 None\n",
    "        return None\n",
    "\n",
    "    between_peaks = data[start_index:end_index + 1]\n",
    "\n",
    "    # 找到回落到稳定值的第一个值（假设稳定值在 50 到 60 之间）\n",
    "    for value in between_peaks:\n",
    "        if 50 <= value <= 60:\n",
    "            return value\n",
    "\n",
    "    # 如果未找到稳定值，返回 None\n",
    "    return None\n",
    "\n",
    "\n",
    "def find_first_stable_after_peak(data, peak, stable_min=50, stable_max=60):\n",
    "    \"\"\"\n",
    "    从峰值到列表末尾的数据中，找到第一个回落到稳定值的值。\n",
    "\n",
    "    参数:\n",
    "    data (list): 数据列表\n",
    "    peak (float): 峰值\n",
    "    stable_min (float): 稳定值的最小值\n",
    "    stable_max (float): 稳定值的最大值\n",
    "\n",
    "    返回:\n",
    "    float or None: 稳定值，如果未找到则返回 None\n",
    "    \"\"\"\n",
    "    try:\n",
    "        # 找到峰值的索引\n",
    "        start_index = data.index(peak)\n",
    "    except ValueError:\n",
    "        # 如果峰值不在列表中，返回 None\n",
    "        return None\n",
    "\n",
    "    # 切片获取从峰值到列表末尾的数据\n",
    "    after_peak = data[start_index:]\n",
    "\n",
    "    # 找到回落到稳定值的第一个值\n",
    "    for value in after_peak:\n",
    "        if stable_min <= value <= stable_max:\n",
    "            return value\n",
    "\n",
    "    # 如果未找到稳定值，返回 None\n",
    "    return None\n",
    "\n",
    "\n",
    "LLLL = []\n",
    "import pandas as pd\n",
    "\n",
    "\n",
    "def extract_events(df, segment):\n",
    "    \n",
    "    \"\"\"\n",
    "    从指定的时间段内提取和分析电流事件序列\n",
    "    \n",
    "    参数解析：\n",
    "    df (pd.DataFrame): 包含设备状态数据的数据框\n",
    "        必需列：\n",
    "        - csvTime: 时间戳列\n",
    "        - check_current_presence: 电流状态列（'有电流'/'无电流'）\n",
    "        - Ajia-5_v: 电流值列\n",
    "    segment (tuple): 时间段区间元组 (start_time, end_time)\n",
    "    \n",
    "    返回：\n",
    "    List[int]: 每对电流事件中检测到的峰值数量列表\n",
    "    \"\"\"\n",
    "    \n",
    "    start, end = segment\n",
    "    # start = pd.to_datetime(start)\n",
    "    # end = pd.to_datetime(end)\n",
    "    print(f\"开机时间: {start}, 关机时间: {end}\")\n",
    "    \n",
    "    # 提取满足三个条件的事件：\n",
    "    # 1. 时间在指定区间内\n",
    "    # 2. 电流状态为\"有电流\"或\"无电流\"\n",
    "    \n",
    "    \n",
    "    events = df[\n",
    "        (df['csvTime'] >= start) & (df['csvTime'] <= end) & (df['check_current_presence'].isin(['有电流', '无电流']))]\n",
    "    # 打印找到的事件数量\n",
    "    print(f\"事件数量: {events.shape[0]}\")\n",
    "    \n",
    "    # 初始化一个列表，用于存储每对事件中检测到的峰值数量\n",
    "    L3 = []\n",
    "    \n",
    "    # 检查事件数量是否为偶数\n",
    "    # 验证事件条件：\n",
    "    # 1. 至少有2个事件\n",
    "    # 2. 事件总数为偶数（确保可以配对）\n",
    "    if events.shape[0] >= 2 and events.shape[0] % 2 == 0:\n",
    "        # 遍历所有偶数索引的事件对\n",
    "        # 步长为2遍历事件，处理事件对\n",
    "        for i in range(0, events.shape[0], 2):\n",
    "            # 获取事件对\n",
    "            event_start = events.iloc[i]\n",
    "            event_end = events.iloc[i + 1]\n",
    "            \n",
    "            # 确保第一个事件是“有电流”，第二个事件是“无电流”\n",
    "            if event_start['check_current_presence'] == '有电流' and event_end['check_current_presence'] == '无电流':\n",
    "                \n",
    "                 # 记录事件的具体时间点\n",
    "                start_event_time = event_start['csvTime']\n",
    "                end_event_time = event_end['csvTime']\n",
    "\n",
    "                # 提取两个事件之间的数据\n",
    "                between_events = df[(df['csvTime'] >= start_event_time) & (df['csvTime'] <= end_event_time)]\n",
    "                 \n",
    "                 # 提取电流值序列\n",
    "                data1 = list(between_events['Ajia-5_v'])\n",
    "                print(f\"事件对 ({i}, {i + 1}) 之间的数据: {data1}\")\n",
    "\n",
    "                # 调用 find_peaks 函数（假设已定义）\n",
    "                len_peaks, peak_L = find_peaks(data1)\n",
    "                print(f'峰值为{peak_L}')\n",
    "                L3.append(len_peaks)\n",
    "    return L3\n",
    "\n",
    "\n",
    "L5 = [] # 创建一个空列表用于存储所有段的事件分析结果\n",
    "# 提取每个区段内的“通电流”和“关电流”事件\n",
    "\n",
    "# 核心循环：遍历所有时间段进行处理\n",
    "for segment in segments:\n",
    "    \n",
    "    # 对每个时间段执行事件提取\n",
    "    L4 = extract_events(df, segment=segment)\n",
    "    # 将当前段的分析结果添加到总结果列表\n",
    "    L5.append(L4)\n",
    "    # 解构时间段\n",
    "    start, end = segment\n",
    "    \n",
    "    # 提取当前时间段的所有数据\n",
    "    events_2 = df[(df['csvTime'] >= start) & (df['csvTime'] <= end)]\n",
    "    \n",
    "    \n",
    "    print('-----------------事件--------------------')\n",
    "    print(list(events_2['Ajia-5_v']))# 打印电流值序列\n",
    "    print('-----------------事件--------------------')\n",
    "    \n",
    "    # 提取有效电流事件（只包含有电流和无电流的状态）\n",
    "    events_1 = df[\n",
    "        (df['csvTime'] >= start) & (df['csvTime'] <= end) & (df['check_current_presence'].isin(['有电流', '无电流']))]\n",
    "    LLLL.append(events_1.shape[0])# 记录有效事件的数量\n",
    "    # if start=='2024-08-24 07:55:08':\n",
    "\n",
    "    # 这部分处理峰值模式为[0, 2]的情况，表示第一个事件对没有峰值，第二个事件对有2个峰值。\n",
    "    if L4 == [0, 2]:\n",
    "        # 提取当前时间段内的所有电流事件\n",
    "        events = df[(df['csvTime'] >= start) & (df['csvTime'] <= end) & (\n",
    "            df['check_current_presence'].isin(['有电流', '无电流']))]\n",
    "        \n",
    "        # 检查事件数量是否为偶数\n",
    "        if events.shape[0] % 2 == 0:\n",
    "            \n",
    "            if events.iloc[0]['check_current_presence'] == '有电流' and events.iloc[1][\n",
    "                'check_current_presence'] == '无电流':\n",
    "                \n",
    "                # 提取第一对事件的时间范围\n",
    "                start_event_time = events.iloc[0]['csvTime']\n",
    "                end_event_time = events.iloc[1]['csvTime']\n",
    "                between_events = df[(df['csvTime'] >= start_event_time) & (df['csvTime'] <= end_event_time)]\n",
    "                data1 = list(between_events['Ajia-5_v'])\n",
    "                \n",
    "                # 分析峰值\n",
    "                len_peaks, peak_L = find_peaks(data1)\n",
    "                \n",
    "                \n",
    "                # 如果第一个事件对没有峰值，检查第二个事件对\n",
    "                if len_peaks == 0:\n",
    "                    if events.iloc[2]['check_current_presence'] == '有电流' and events.iloc[3][\n",
    "                        'check_current_presence'] == '无电流':\n",
    "                        \n",
    "                        # 提取第二对事件的数据\n",
    "                        start_event_time = events.iloc[2]['csvTime']\n",
    "                        end_event_time = events.iloc[3]['csvTime']\n",
    "                        between_events = df[(df['csvTime'] >= start_event_time) & (df['csvTime'] <= end_event_time)]\n",
    "                        data1 = list(between_events['Ajia-5_v'])\n",
    "                        print(data1)\n",
    "                        \n",
    "                        # 分析第二对事件的峰值\n",
    "                        len_peaks, peak_L = find_peaks(data1)\n",
    "                        \n",
    "                        # 如果找到两个峰值，进行状态标记\n",
    "                        if len_peaks == 2:\n",
    "                            \n",
    "                           # 标记征服者起吊 \n",
    "                            value_11 = find_first_increasing_value(data1)\n",
    "                            indices = between_events.index[between_events['Ajia-5_v'] == value_11].tolist()\n",
    "                            df.loc[indices, 'status'] = '征服者起吊'\n",
    "                            \n",
    "                            # 标记缆绳解除和征服者入水\n",
    "                            value_11 = find_stable_value(data1, peak_L[0], peak_L[1])\n",
    "                            indices = between_events.index[between_events['Ajia-5_v'] == value_11].tolist()\n",
    "                            df.loc[indices, 'status'] = '缆绳解除'\n",
    "                            previous_indices = [idx - 1 for idx in indices if idx > 0]\n",
    "                            df.loc[previous_indices, 'status'] = '征服者入水'\n",
    "\n",
    "                            # 找到 between_events 中 Ajia-5_v 等于 target_value 的索引\n",
    "                            indices = between_events.index[between_events['Ajia-5_v'] == peak_L[1]].tolist()\n",
    "                            df.loc[indices, 'status'] = 'A架摆回'\n",
    "    if L4 == [2]:\n",
    "        \n",
    "        \n",
    "        \"\"\"\n",
    "    处理只有一对电流事件且有2个峰值的情况\n",
    "    这种模式通常对应一次完整的下放操作\n",
    "    典型的下放操作流程：\n",
    "    第一个峰值 -> 征服者起吊\n",
    "    两峰之间的稳定值 -> 缆绳解除\n",
    "    第二个峰值 -> A架摆回\n",
    "    \"\"\"\n",
    "        \n",
    "        # 1. 提取有效事件\n",
    "        events = df[(df['csvTime'] >= start) & (df['csvTime'] <= end) & (\n",
    "            df['check_current_presence'].isin(['有电流', '无电流']))]\n",
    "        \n",
    "        # 2. 检查事件数量是否为偶数\n",
    "        if events.shape[0] % 2 == 0:\n",
    "            # 3. 验证事件对的有效性\n",
    "            if events.iloc[0]['check_current_presence'] == '有电流' and events.iloc[1][\n",
    "                'check_current_presence'] == '无电流':\n",
    "                \n",
    "                # 4. 提取第一对事件的时间范围\n",
    "                start_event_time = events.iloc[0]['csvTime']\n",
    "                end_event_time = events.iloc[1]['csvTime']\n",
    "                \n",
    "                # 5. 提取第一对事件的数据\n",
    "                between_events = df[(df['csvTime'] >= start_event_time) & (df['csvTime'] <= end_event_time)]\n",
    "                \n",
    "                # 6. 获取电流值序列\n",
    "                data1 = list(between_events['Ajia-5_v'])\n",
    "                \n",
    "                # 7. 分析峰值\n",
    "                len_peaks, peak_L = find_peaks(data1)\n",
    "                \n",
    "                # 8. 处理双峰模式\n",
    "                if len_peaks == 2:\n",
    "                    \n",
    "                     # 8.1 再次验证事件对（双重检查）\n",
    "                    if events.iloc[0]['check_current_presence'] == '有电流' and events.iloc[1][\n",
    "                        'check_current_presence'] == '无电流':\n",
    "                        \n",
    "                        # 8.2 重新提取数据（确保数据准确性）\n",
    "                        start_event_time = events.iloc[0]['csvTime']\n",
    "                        end_event_time = events.iloc[1]['csvTime']\n",
    "                        between_events = df[(df['csvTime'] >= start_event_time) & (df['csvTime'] <= end_event_time)]\n",
    "                        data1 = list(between_events['Ajia-5_v'])\n",
    "                        \n",
    "                        # 8.3 再次分析峰值\n",
    "                        len_peaks, peak_L = find_peaks(data1)\n",
    "                        \n",
    "                        # 8.4 处理确认的双峰模式\n",
    "                        if len_peaks == 2:\n",
    "                            # a. 标记征服者起吊\n",
    "                            value_11 = find_first_increasing_value(data1)\n",
    "                            indices = between_events.index[between_events['Ajia-5_v'] == value_11].tolist()\n",
    "                            df.loc[indices, 'status'] = '征服者起吊'\n",
    "                            \n",
    "                            \n",
    "                            # b. 标记缆绳解除和征服者入水\n",
    "                            value_11 = find_stable_value(data1, peak_L[0], peak_L[1])\n",
    "                            indices = between_events.index[between_events['Ajia-5_v'] == value_11].tolist()\n",
    "                            df.loc[indices, 'status'] = '缆绳解除'\n",
    "                            \n",
    "                            # c. 标记征服者入水（在缆绳解除之前）\n",
    "                            previous_indices = [idx - 1 for idx in indices if idx > 0]\n",
    "                            df.loc[previous_indices, 'status'] = '征服者入水'\n",
    "\n",
    "                            # 找到 between_events 中 Ajia-5_v 等于 target_value 的索引\n",
    "                            \n",
    "                            # d. 标记A架摆回\n",
    "                            indices = between_events.index[between_events['Ajia-5_v'] == peak_L[1]].tolist()\n",
    "                            df.loc[indices, 'status'] = 'A架摆回'\n",
    "\n",
    "    elif L4 == [0, 3]:\n",
    "        \"\"\"\n",
    "    处理特定的峰值模式：第一个事件对没有峰值[0]，第二个事件对有3个峰值[3]\n",
    "    这种模式通常表示一个复杂的设备操作序列\n",
    "        典型的操作流程：\"\"\"\n",
    "          # 1. 提取满足条件的事件\n",
    "        events = df[(df['csvTime'] >= start) & (df['csvTime'] <= end) & (\n",
    "            df['check_current_presence'].isin(['有电流', '无电流']))]\n",
    "        \n",
    "         # 验证事件数量为偶数（确保事件可以配对）\n",
    "        if events.shape[0] % 2 == 0:\n",
    "            # 验证第一对事件的正确性\n",
    "            if events.iloc[0]['check_current_presence'] == '有电流' and events.iloc[1][\n",
    "                'check_current_presence'] == '无电流':\n",
    "                \n",
    "                # 提取第一对事件的时间范围\n",
    "                start_event_time = events.iloc[0]['csvTime']\n",
    "                end_event_time = events.iloc[1]['csvTime']\n",
    "                \n",
    "                # 提取第一对事件的数据\n",
    "                between_events = df[(df['csvTime'] >= start_event_time) & (df['csvTime'] <= end_event_time)]\n",
    "                data1 = list(between_events['Ajia-5_v'])\n",
    "\n",
    "                len_peaks, peak_L = find_peaks(data1)\n",
    "                \n",
    "                # 如果第一对事件确实没有峰值\n",
    "                if len_peaks == 0:\n",
    "                    # 验证第二对事件\n",
    "                    if events.iloc[2]['check_current_presence'] == '有电流' and events.iloc[3][\n",
    "                        'check_current_presence'] == '无电流':\n",
    "                        # 提取第二对事件的时间范围\n",
    "                        start_event_time = events.iloc[2]['csvTime']\n",
    "                        end_event_time = events.iloc[3]['csvTime']\n",
    "                        # 获取第二对事件的数据\n",
    "\n",
    "                        between_events = df[(df['csvTime'] >= start_event_time) & (df['csvTime'] <= end_event_time)]\n",
    "                        data1 = list(between_events['Ajia-5_v'])\n",
    "                        print(data1)\n",
    "                        \n",
    "                        # 分析第二对事件的峰值\n",
    "                        len_peaks, peak_L = find_peaks(data1)\n",
    "                        \n",
    "                        # 处理三峰值模式\n",
    "                        if len_peaks == 3:\n",
    "                            \n",
    "                            # a. 标记征服者起吊（使用第一个上升值）\n",
    "                            value_11 = find_first_increasing_value(data1)\n",
    "                            indices = between_events.index[between_events['Ajia-5_v'] == value_11].tolist()\n",
    "                            df.loc[indices, 'status'] = '征服者起吊'\n",
    "                             # b. 标记缆绳解除（使用第二、三个峰值之间的稳定值）\n",
    "                            value_11 = find_stable_value(data1, peak_L[1], peak_L[2])\n",
    "                            indices = between_events.index[between_events['Ajia-5_v'] == value_11].tolist()\n",
    "                            df.loc[indices, 'status'] = '缆绳解除'\n",
    "                            previous_indices = [idx - 1 for idx in indices if idx > 0]\n",
    "                            # c. 标记征服者入水（在缆绳解除之前）\n",
    "                            df.loc[previous_indices, 'status'] = '征服者入水'\n",
    "\n",
    "                            # 找到 between_events 中 Ajia-5_v 等于 target_value 的索引\n",
    "                            \n",
    "                            # d. 标记A架摆回（使用最后一个峰值）\n",
    "                            indices = between_events.index[between_events['Ajia-5_v'] == peak_L[2]].tolist()\n",
    "                            df.loc[indices, 'status'] = 'A架摆回'\n",
    "    elif L4 == [0, 1, 3]:\n",
    "        \n",
    "        events = df[(df['csvTime'] >= start) & (df['csvTime'] <= end) & (\n",
    "            df['check_current_presence'].isin(['有电流', '无电流']))]\n",
    "        \n",
    "        if events.shape[0] % 2 == 0:\n",
    "            if events.iloc[0]['check_current_presence'] == '有电流' and events.iloc[1][\n",
    "                'check_current_presence'] == '无电流':\n",
    "                start_event_time = events.iloc[0]['csvTime']\n",
    "                end_event_time = events.iloc[1]['csvTime']\n",
    "                between_events = df[(df['csvTime'] >= start_event_time) & (df['csvTime'] <= end_event_time)]\n",
    "                data1 = list(between_events['Ajia-5_v'])\n",
    "\n",
    "                len_peaks, peak_L = find_peaks(data1)\n",
    "\n",
    "                if len_peaks == 0:\n",
    "                    if events.iloc[4]['check_current_presence'] == '有电流' and events.iloc[5][\n",
    "                        'check_current_presence'] == '无电流':\n",
    "                        start_event_time = events.iloc[4]['csvTime']\n",
    "                        end_event_time = events.iloc[5]['csvTime']\n",
    "                        between_events = df[(df['csvTime'] >= start_event_time) & (df['csvTime'] <= end_event_time)]\n",
    "                        data1 = list(between_events['Ajia-5_v'])\n",
    "\n",
    "                        len_peaks, peak_L = find_peaks(data1)\n",
    "                        if len_peaks == 3:\n",
    "                            value_11 = find_first_increasing_value(data1)\n",
    "                            indices = between_events.index[between_events['Ajia-5_v'] == value_11].tolist()\n",
    "                            df.loc[indices, 'status'] = '征服者起吊'\n",
    "                            value_11 = find_stable_value(data1, peak_L[1], peak_L[2])\n",
    "                            indices = between_events.index[between_events['Ajia-5_v'] == value_11].tolist()\n",
    "                            df.loc[indices, 'status'] = '缆绳解除'\n",
    "                            previous_indices = [idx - 1 for idx in indices if idx > 0]\n",
    "                            df.loc[previous_indices, 'status'] = '征服者入水'\n",
    "\n",
    "                            # 找到 between_events 中 Ajia-5_v 等于 target_value 的索引\n",
    "                            indices = between_events.index[between_events['Ajia-5_v'] == peak_L[2]].tolist()\n",
    "                            df.loc[indices, 'status'] = 'A架摆回'\n",
    "    elif L4 == [1, 2] or L4 == [1, 1]:\n",
    "        events = df[(df['csvTime'] >= start) & (df['csvTime'] <= end) & (\n",
    "            df['check_current_presence'].isin(['有电流', '无电流']))]\n",
    "        if events.shape[0] % 2 == 0:\n",
    "            if events.iloc[0]['check_current_presence'] == '有电流' and events.iloc[1][\n",
    "                'check_current_presence'] == '无电流':\n",
    "                start_event_time = events.iloc[0]['csvTime']\n",
    "                end_event_time = events.iloc[1]['csvTime']\n",
    "                between_events = df[(df['csvTime'] >= start_event_time) & (df['csvTime'] <= end_event_time)]\n",
    "                data1 = list(between_events['Ajia-5_v'])\n",
    "\n",
    "                len_peaks, peak_L = find_peaks(data1)\n",
    "\n",
    "                if len_peaks == 1:\n",
    "                    value_11 = find_first_increasing_value(data1)\n",
    "                    indices = between_events.index[between_events['Ajia-5_v'] == peak_L[0]].tolist()\n",
    "                    df.loc[indices, 'status'] = 'A架摆出'\n",
    "                    if events.iloc[2]['check_current_presence'] == '有电流' and events.iloc[3][\n",
    "                        'check_current_presence'] == '无电流':\n",
    "                        start_event_time = events.iloc[2]['csvTime']\n",
    "                        end_event_time = events.iloc[3]['csvTime']\n",
    "                        between_events = df[(df['csvTime'] >= start_event_time) & (df['csvTime'] <= end_event_time)]\n",
    "                        data1 = list(between_events['Ajia-5_v'])\n",
    "\n",
    "                        len_peaks, peak_L = find_peaks(data1)\n",
    "                        max_value = max([x for x in data1 if x <= 200])\n",
    "\n",
    "                        if len_peaks == 2:\n",
    "                            # 找到 between_events 中 Ajia-5_v 等于 target_value 的索引\n",
    "                            indices = between_events.index[between_events['Ajia-5_v'] == max_value].tolist()\n",
    "                            df.loc[indices, 'status'] = '征服者出水'\n",
    "                            previous_indices = [idx - 1 for idx in indices if idx > 0]\n",
    "                            df.loc[previous_indices, 'status'] = '缆绳挂妥'\n",
    "\n",
    "                            value_11 = find_first_stable_after_peak(data1, max_value)\n",
    "                            indices = between_events.index[between_events['Ajia-5_v'] == value_11].tolist()\n",
    "                            df.loc[indices, 'status'] = '征服者落座'\n",
    "                        elif len_peaks == 1:\n",
    "                            # 找到 between_events 中 Ajia-5_v 等于 target_value 的索引\n",
    "                            indices = between_events.index[between_events['Ajia-5_v'] == max_value].tolist()\n",
    "                            df.loc[indices, 'status'] = '征服者出水'\n",
    "                            previous_indices = [idx - 1 for idx in indices if idx > 0]\n",
    "                            df.loc[previous_indices, 'status'] = '缆绳挂妥'\n",
    "\n",
    "                            value_11 = find_first_stable_after_peak(data1, max_value)\n",
    "                            indices = between_events.index[between_events['Ajia-5_v'] == value_11].tolist()\n",
    "                            df.loc[indices, 'status'] = '征服者落座'\n",
    "    else:\n",
    "    # 这是在处理其他峰值模式不匹配的情况\n",
    "    # 创建数据副本以避免修改原始数据\n",
    "        events_2 = events_2.copy()\n",
    "    # 确保时间列的正确格式\n",
    "        events_2.loc[:, 'csvTime'] = pd.to_datetime(events_2['csvTime'])\n",
    "        # 获取第一个值\n",
    "        first_value = events_2['csvTime'].iloc[0]\n",
    "\n",
    "        # 定义目标日期\n",
    "        target_date = datetime(2024, 8, 19)  # 2024年8月19日   大模型预测测试\n",
    "        is_target_date = (first_value.date() == target_date.date())\n",
    "\n",
    "        target_date_1 = datetime(2024, 8, 19)  # 2024年8月19日   大模型预测测试\n",
    "        is_target_date_1 = (first_value.date() == target_date.date())\n",
    "\n",
    "        # 判断小时是否大于12点 判断时间是否在下午5点之后\n",
    "        is_hour_greater_than_12 = first_value.hour > 17\n",
    "    \n",
    "        # 获取每天的开机时间序列\n",
    "        first_start_times, second_start_times = extract_daily_power_on_times(df=df)\n",
    "        \n",
    "        \n",
    "        # 特定条件判断：目标日期且在下午5点后\n",
    "        if is_target_date and is_hour_greater_than_12:  # 全部预测可以去掉is_target_date条件 或者根据问题传入\n",
    "            events_2['new_column'] = events_2.apply(\n",
    "                lambda row: row['Ajia-3_v'] if row['Ajia-5_v'] == 0 and row['Ajia-3_v'] > 0 else row['Ajia-5_v'],\n",
    "                axis=1\n",
    "            )\n",
    "            print('----------------LLM预测的列表---------------------')\n",
    "            print(str(list(events_2['new_column'])))\n",
    "\n",
    "            try:\n",
    "                a, b, c = get_result(str(list(events_2['new_column'])), 1)\n",
    "            except Exception as e:\n",
    "                print(f\"An error occurred: {e}\")\n",
    "                a, b, c = -100, -100, -100\n",
    "            print('----------------预测的值---------------------')\n",
    "            print(a, b, c)\n",
    "\n",
    "            indices = events_2.index[events_2['new_column'] == a].tolist()\n",
    "            df.loc[indices, 'status'] = 'A架摆出'\n",
    "\n",
    "            indices = events_2.index[events_2['new_column'] == b].tolist()\n",
    "            df.loc[indices, 'status'] = '征服者出水'\n",
    "            previous_indices = [idx - 1 for idx in indices if idx > 0]\n",
    "            df.loc[previous_indices, 'status'] = '缆绳挂妥'\n",
    "\n",
    "            indices = events_2.index[events_2['new_column'] == c].tolist()\n",
    "            df.loc[indices, 'status'] = '征服者落座'\n",
    "\n",
    "\n",
    "\n",
    "        elif first_value in first_start_times and 1 == 0:  # 去掉1==0由LLM判断状态  默认不开启 给大家分享参考思路。\n",
    "            events_2['new_column'] = events_2.apply(\n",
    "                lambda row: row['Ajia-3_v'] if row['Ajia-5_v'] == 0 and row['Ajia-3_v'] > 0 else row['Ajia-5_v'],\n",
    "                axis=1\n",
    "            )\n",
    "            print('----------------LLM预测的列表---------------------')\n",
    "            print(str(list(events_2['new_column'])))\n",
    "\n",
    "            try:\n",
    "                a, b, c = get_result(str(list(events_2['new_column'])), 0)\n",
    "            except Exception as e:\n",
    "                print(f\"An error occurred: {e}\")\n",
    "                a, b, c = -100, -100, -100\n",
    "            print('----------------预测的值---------------------')\n",
    "            print(a, b, c)\n",
    "\n",
    "            indices = events_2.index[events_2['new_column'] == a].tolist()\n",
    "            df.loc[indices, 'status'] = '征服者起吊'\n",
    "\n",
    "            indices = events_2.index[events_2['new_column'] == b].tolist()\n",
    "            df.loc[indices, 'status'] = '缆绳解除'\n",
    "            previous_indices = [idx - 1 for idx in indices if idx > 0]\n",
    "            df.loc[previous_indices, 'status'] = '征服者入水'\n",
    "\n",
    "            indices = events_2.index[events_2['new_column'] == c].tolist()\n",
    "            df.loc[indices, 'status'] = 'A架摆回'\n",
    "\n",
    "        elif first_value in second_start_times and 1 == 0:  # 去掉1==0由LLM判断状态\n",
    "            events_2['new_column'] = events_2.apply(\n",
    "                lambda row: row['Ajia-3_v'] if row['Ajia-5_v'] == 0 and row['Ajia-3_v'] > 0 else row['Ajia-5_v'],\n",
    "                axis=1\n",
    "            )\n",
    "            print('----------------LLM预测的列表---------------------')\n",
    "            print(str(list(events_2['new_column'])))\n",
    "\n",
    "            try:\n",
    "                a, b, c = get_result(str(list(events_2['new_column'])), 1)\n",
    "            except Exception as e:\n",
    "                print(f\"An error occurred: {e}\")\n",
    "                a, b, c = -100, -100, -100\n",
    "            print('----------------预测的值---------------------')\n",
    "            print(a, b, c)\n",
    "\n",
    "            indices = events_2.index[events_2['new_column'] == a].tolist()\n",
    "            df.loc[indices, 'status'] = 'A架摆出'\n",
    "\n",
    "            indices = events_2.index[events_2['new_column'] == b].tolist()\n",
    "            df.loc[indices, 'status'] = '征服者出水'\n",
    "            previous_indices = [idx - 1 for idx in indices if idx > 0]\n",
    "            df.loc[previous_indices, 'status'] = '缆绳挂妥'\n",
    "\n",
    "            indices = events_2.index[events_2['new_column'] == c].tolist()\n",
    "            df.loc[indices, 'status'] = '征服者落座'\n",
    "\n",
    "        print('------------------')\n",
    "        print(L4)\n",
    "df = df.drop(columns=['date'])  # 删除 'date' 列\n",
    "df = df.drop(columns=['check_current_presence'])  # 删除 'date' 列\n",
    "#把这两个注释的原因是因为ai_brain中的api工具会用到check_current_presence这个字段，后悔了注释完效果更不好，当然也可能不是注释导致的问题\n",
    "df.to_csv('database_in_use/Ajia_plc_1.csv', index=False)\n"
   ],
   "metadata": {
    "collapsed": false,
    "ExecuteTime": {
     "end_time": "2025-01-23T09:30:39.754743Z",
     "start_time": "2025-01-23T09:27:20.975187Z"
    }
   },
   "id": "11ea27b0153f6c6f",
   "execution_count": 11
  },
  {
   "cell_type": "code",
   "outputs": [],
   "source": [
    "\n",
    "# In[4]:\n",
    "\n",
    "\n",
    "import pandas as pd\n",
    "\n",
    "# 读取CSV文件\n",
    "df = pd.read_csv('data/Port3_ksbg_9.csv')\n",
    "# 将P3_33列转换为数值类型，无法转换的保留原值\n",
    "df['P3_33'] = pd.to_numeric(df['P3_33'], errors='coerce')\n",
    "# 初始化status列\n",
    "df['status'] = 'False'\n",
    "# A架开机关机\n",
    "for i in range(1, df.shape[0]):\n",
    "    # 开机  前一个值为0\n",
    "  #当前值大于0\n",
    "    if df.loc[i - 1, 'P3_33'] == 0 and df.loc[i, 'P3_33'] > 0:\n",
    "        df.loc[i, 'status'] = 'ON_DP'\n",
    "    # 关机\n",
    "    if df.loc[i - 1, 'P3_33'] > 0 and df.loc[i, 'P3_33'] == 0:\n",
    "        df.loc[i, 'status'] = 'OFF_DP'\n",
    "# 保存结果\n",
    "df.to_csv('database_in_use/Port3_ksbg_9.csv', index=False)"
   ],
   "metadata": {
    "collapsed": false,
    "ExecuteTime": {
     "end_time": "2025-01-23T09:30:41.061406Z",
     "start_time": "2025-01-23T09:30:39.756743Z"
    }
   },
   "id": "5253e0121d79ec02",
   "execution_count": 12
  },
  {
   "cell_type": "code",
   "outputs": [],
   "source": [
    "\n",
    "# In[5]:\n",
    "\n",
    "\n",
    "# 读取CSV文件\n",
    "df = pd.read_csv('data/device_13_11_meter_1311.csv')\n",
    "\n",
    "# 将13-11-6_v列转换为数值类型，无法转换的保留原值\n",
    "df['13-11-6_v'] = pd.to_numeric(df['13-11-6_v'], errors='coerce')\n",
    "\n",
    "# 初始化status和action列\n",
    "df['status'] = 'False'\n",
    "df['action'] = 'False'\n",
    "\n",
    "\n",
    "def sliding_window_5(arr):\n",
    "    \"\"\"\n",
    "    使用大小为5的滑动窗口处理数据序列\n",
    "    \n",
    "    功能说明：\n",
    "    检测并修正数据中的异常下降-上升模式\n",
    "    当发现中间三个值异常降低（<10）而两端正常（>10）时，\n",
    "    用第一个正常值替换这三个异常值\n",
    "    \n",
    "    参数：\n",
    "    arr (list): 输入的数值列表，通常是电流值序列\n",
    "    \n",
    "    返回：\n",
    "    list: 处理后的新数组，保持原数组长度不变\n",
    "    \"\"\"\n",
    "    # 设置滑动窗口大小为5\n",
    "    window_size = 5\n",
    "    \n",
    "    # 创建输入数组的深拷贝，避免修改原始数据\n",
    "    modified_arr = arr.copy()\n",
    "    \n",
    "    # 遍历所有可能的窗口位置\n",
    "    # 循环范围：从0到len(arr)-window_size+1，确保窗口不会超出数组边界\n",
    "    for i in range(len(arr) - window_size + 1):\n",
    "        # 提取当前窗口的5个值\n",
    "        window = arr[i:i + window_size]\n",
    "        \n",
    "        # 判断当前窗口是否满足特定模式：\n",
    "        # window[0]: 第一个值 (>10，正常值)\n",
    "        # window[1:4]: 中间三个值 (<10，异常低值)\n",
    "        # window[4]: 最后一个值 (>10，正常值)\n",
    "        if (window[1] < 10 and           # 第二个值小于10\n",
    "            window[2] < 10 and           # 第三个值小于10\n",
    "            window[3] < 10 and           # 第四个值小于10\n",
    "            window[0] > 10 and           # 第一个值大于10\n",
    "            window[4] > 10):             # 最后一个值大于10\n",
    "            \n",
    "            # 使用第一个正常值(window[0])替换中间三个异常值\n",
    "            # modified_arr[i + 1:i + 4]选择要替换的三个位置\n",
    "            # [window[0]] * 3 创建一个包含三个相同值的列表\n",
    "            modified_arr[i + 1:i + 4] = [window[0]] * 3\n",
    "            \n",
    "    return modified_arr\n",
    "\n",
    "\n",
    "def sliding_window_4(arr):\n",
    "    \"\"\"滑动窗口大小为4的逻辑\"\"\"\n",
    "    window_size = 4\n",
    "    modified_arr = arr.copy()\n",
    "    for i in range(len(arr) - window_size + 1):\n",
    "        window = arr[i:i + window_size]\n",
    "        if window[1] < 10 and window[2] < 10 and window[0] > 10 and window[3] > 10:\n",
    "            # 将 window[0] 包装成列表进行赋值\n",
    "            modified_arr[i + 1:i + 3] = [window[0]] * 2\n",
    "    return modified_arr\n",
    "\n",
    "\n",
    "def sliding_window_3(arr):\n",
    "    \"\"\"滑动窗口大小为3的逻辑\"\"\"\n",
    "    window_size = 3\n",
    "    modified_arr = arr.copy()\n",
    "    for i in range(len(arr) - window_size + 1):\n",
    "        window = arr[i:i + window_size]\n",
    "        if window[1] < 10 and window[0] > 10 and window[2] > 10:\n",
    "            # 直接赋值，因为只修改一个值\n",
    "            modified_arr[i + 1] = window[0]\n",
    "    return modified_arr\n",
    "\n",
    "\n",
    "# 应用滑动窗口逻辑到 DataFrame 的某一列\n",
    "df['13-11-6_v_new'] = sliding_window_5(df['13-11-6_v'].tolist())\n",
    "df['13-11-6_v_new'] = sliding_window_4(df['13-11-6_v_new'].tolist())\n",
    "df['13-11-6_v_new'] = sliding_window_3(df['13-11-6_v_new'].tolist())\n",
    "\n",
    "# 检测折臂吊车的开机和关机事件\n",
    "segments = []\n",
    "start_time = None\n",
    "\n",
    "for i in range(1, df.shape[0]):\n",
    "    # 开机\n",
    "    if df.iloc[i - 1]['13-11-6_v'] == 0 and df.iloc[i]['13-11-6_v'] > 0:\n",
    "        df.at[df.index[i], 'status'] = '折臂吊车开机'\n",
    "    # 关机\n",
    "    if df.iloc[i - 1]['13-11-6_v'] > 0 and df.iloc[i]['13-11-6_v'] == 0:\n",
    "        df.at[df.index[i], 'status'] = '折臂吊车关机'\n",
    "\n",
    "    # 检测由待机进入工作和由工作进入待机的事件\n",
    "    if df.iloc[i - 1]['13-11-6_v_new'] < 10 and df.iloc[i]['13-11-6_v_new'] > 10:\n",
    "        df.at[df.index[i], 'action'] = '由待机进入工作'\n",
    "    if df.iloc[i - 1]['13-11-6_v_new'] > 10 and df.iloc[i]['13-11-6_v_new'] < 10:\n",
    "        df.at[df.index[i], 'action'] = '由工作进入待机'\n",
    "    # 遍历DataFrame\n",
    "for index, row in df.iterrows():\n",
    "    if row['status'] == '折臂吊车开机':\n",
    "        start_time = row['csvTime']\n",
    "    elif row['status'] == '折臂吊车关机' and start_time is not None:\n",
    "        end_time = row['csvTime']\n",
    "        segments.append((start_time, end_time))\n",
    "        start_time = None\n",
    "        \n",
    "        \n",
    "from collections import Counter\n",
    "\n",
    "\n",
    "def find_most_frequent_number(lst):\n",
    "    # 使用 Counter 统计每个数的出现次数\n",
    "    counter = Counter(lst)\n",
    "    # 找到出现次数最多的数（如果有多个，只返回第一个）\n",
    "    most_common_number = counter.most_common(1)[0][0]\n",
    "    return most_common_number\n",
    "\n",
    "\n",
    "# 提取每个区段内的“由待机进入工作”和“由工作进入待机”事件\n",
    "for segment in segments:\n",
    "    start, end = segment\n",
    "    events = df[\n",
    "        (df['csvTime'] >= start) & (df['csvTime'] <= end) & (df['action'].isin(['由待机进入工作', '由工作进入待机']))]\n",
    "    events_2 = df[(df['csvTime'] >= start) & (df['csvTime'] <= end)]\n",
    "    # 检查事件数量是否为偶数且等于6\n",
    "    if events.shape[0] == 6:\n",
    "        print(f\"开机时间: {start}, 关机时间: {end}\")\n",
    "        print(f\"事件数量: {events.shape[0]}\")\n",
    "        # 处理每一对事件\n",
    "        for i in range(0, 6, 2):\n",
    "\n",
    "            event_start = events.iloc[i]\n",
    "            event_end = events.iloc[i + 1]\n",
    "\n",
    "            if event_start['action'] == '由待机进入工作' and event_end['action'] == '由工作进入待机':\n",
    "                start_event_time = event_start['csvTime']\n",
    "                end_event_time = event_end['csvTime']\n",
    "                between_events = df[(df['csvTime'] >= start_event_time) & (df['csvTime'] <= end_event_time)]\n",
    "                data1 = list(between_events['13-11-6_v'])\n",
    "\n",
    "                # 找到最后一个大于9的值\n",
    "                last_value_above_9 = next((x for x in reversed(data1) if x > 9), None)\n",
    "\n",
    "                if last_value_above_9 is not None:\n",
    "                    all_indices = between_events.index[between_events['13-11-6_v_new'] == last_value_above_9].tolist()\n",
    "                    last_index = all_indices[-1] if all_indices else None\n",
    "\n",
    "                    # 根据事件对的顺序更新status\n",
    "                    if last_index is not None:\n",
    "                        if i == 0:\n",
    "                            df.loc[last_index, 'status'] = '小艇检查完毕'\n",
    "                        elif i == 2:\n",
    "                            df.loc[last_index, 'status'] = '小艇入水'\n",
    "                        elif i == 4:\n",
    "                            df.loc[last_index, 'status'] = '小艇落座'\n",
    "                else:\n",
    "                    print(\"列表中没有大于 9 的值\")\n",
    "    if events.shape[0] == 4:\n",
    "        print(f\"开机时间: {start}, 关机时间: {end}\")\n",
    "        print(f\"事件数量: {events.shape[0]}\")\n",
    "        # 处理每一对事件\n",
    "        for i in range(0, 4, 2):\n",
    "            event_start = events.iloc[i]\n",
    "            event_end = events.iloc[i + 1]\n",
    "            if event_start['action'] == '由待机进入工作' and event_end['action'] == '由工作进入待机':\n",
    "                start_event_time = event_start['csvTime']\n",
    "                end_event_time = event_end['csvTime']\n",
    "                between_events = df[(df['csvTime'] >= start_event_time) & (df['csvTime'] <= end_event_time)]\n",
    "                data1 = list(between_events['13-11-6_v'])\n",
    "\n",
    "                # 找到最后一个大于9的值\n",
    "                last_value_above_9 = next((x for x in reversed(data1) if x > 9), None)\n",
    "\n",
    "                if last_value_above_9 is not None:\n",
    "                    all_indices = between_events.index[between_events['13-11-6_v_new'] == last_value_above_9].tolist()\n",
    "                    last_index = all_indices[-1] if all_indices else None\n",
    "\n",
    "                    # 根据事件对的顺序更新status\n",
    "\n",
    "                    if last_index is not None and df.loc[last_index, 'status'] == \"FALSE\":\n",
    "                        if i == 0:\n",
    "                            df.loc[last_index, 'status'] = '小艇入水'\n",
    "                        elif i == 2:\n",
    "                            df.loc[last_index, 'status'] = '小艇落座'\n",
    "                else:\n",
    "                    print(\"列表中没有大于 9 的值\")\n",
    "                # 保存结果\n",
    "df = df.drop(columns=['action'])\n",
    "df = df.drop(columns=['13-11-6_v_new'])\n",
    "\n",
    "df.to_csv('database_in_use/device_13_11_meter_1311.csv', index=False)"
   ],
   "metadata": {
    "collapsed": false
   },
   "id": "75b248aa2ca08463",
   "execution_count": null
  },
  {
   "cell_type": "code",
   "outputs": [
    {
     "name": "stdout",
     "output_type": "stream",
     "text": [
      "开机时间: 2024-05-16 22:14:41, 关机时间: 2024-05-16 23:40:06\n",
      "事件数量: 6\n",
      "开机时间: 2024-05-18 08:00:34, 关机时间: 2024-05-18 08:50:01\n",
      "事件数量: 6\n",
      "开机时间: 2024-05-18 16:07:42, 关机时间: 2024-05-18 16:56:51\n",
      "事件数量: 6\n",
      "开机时间: 2024-05-19 07:36:16, 关机时间: 2024-05-19 08:36:46\n",
      "事件数量: 6\n",
      "开机时间: 2024-05-19 16:02:50, 关机时间: 2024-05-19 17:16:13\n",
      "事件数量: 4\n",
      "开机时间: 2024-05-20 07:00:07, 关机时间: 2024-05-20 07:29:21\n",
      "事件数量: 4\n",
      "开机时间: 2024-05-21 11:41:40, 关机时间: 2024-05-21 12:12:42\n",
      "事件数量: 4\n",
      "开机时间: 2024-05-21 16:16:06, 关机时间: 2024-05-21 16:36:08\n",
      "事件数量: 4\n",
      "开机时间: 2024-05-25 08:00:31, 关机时间: 2024-05-25 08:58:52\n",
      "事件数量: 6\n",
      "开机时间: 2024-05-26 09:00:42, 关机时间: 2024-05-26 09:32:53\n",
      "事件数量: 6\n",
      "开机时间: 2024-05-26 16:04:42, 关机时间: 2024-05-26 17:14:57\n",
      "事件数量: 6\n",
      "开机时间: 2024-05-27 08:03:57, 关机时间: 2024-05-27 08:41:09\n",
      "事件数量: 6\n",
      "开机时间: 2024-05-27 09:00:14, 关机时间: 2024-05-27 09:29:28\n",
      "事件数量: 4\n",
      "开机时间: 2024-05-28 08:00:54, 关机时间: 2024-05-28 08:55:17\n",
      "事件数量: 6\n",
      "开机时间: 2024-05-29 18:00:52, 关机时间: 2024-05-30 10:00:31\n",
      "事件数量: 4\n",
      "开机时间: 2024-05-30 16:00:49, 关机时间: 2024-05-30 17:22:14\n",
      "事件数量: 4\n",
      "开机时间: 2024-08-15 08:06:19, 关机时间: 2024-08-15 08:17:20\n",
      "事件数量: 4\n",
      "开机时间: 2024-08-19 13:53:20, 关机时间: 2024-08-19 14:25:33\n",
      "事件数量: 6\n",
      "开机时间: 2024-08-19 21:45:06, 关机时间: 2024-08-19 23:06:29\n",
      "事件数量: 6\n",
      "开机时间: 2024-08-20 09:17:17, 关机时间: 2024-08-20 11:00:51\n",
      "事件数量: 4\n",
      "开机时间: 2024-08-20 17:21:04, 关机时间: 2024-08-20 18:27:21\n",
      "事件数量: 6\n",
      "开机时间: 2024-08-21 08:25:55, 关机时间: 2024-08-21 08:47:06\n",
      "事件数量: 4\n",
      "开机时间: 2024-08-21 16:47:10, 关机时间: 2024-08-21 17:55:23\n",
      "事件数量: 6\n",
      "开机时间: 2024-08-23 08:16:04, 关机时间: 2024-08-23 08:33:09\n",
      "事件数量: 4\n",
      "开机时间: 2024-08-23 18:00:44, 关机时间: 2024-08-23 19:05:59\n",
      "事件数量: 6\n",
      "开机时间: 2024-08-24 08:08:58, 关机时间: 2024-08-24 09:00:17\n",
      "事件数量: 6\n",
      "开机时间: 2024-08-24 16:04:28, 关机时间: 2024-08-24 17:24:44\n",
      "事件数量: 4\n",
      "开机时间: 2024-08-24 18:47:01, 关机时间: 2024-08-24 22:31:14\n",
      "事件数量: 4\n",
      "开机时间: 2024-08-25 07:55:18, 关机时间: 2024-08-25 08:50:38\n",
      "事件数量: 6\n",
      "开机时间: 2024-08-26 07:56:33, 关机时间: 2024-08-26 09:03:58\n",
      "事件数量: 6\n",
      "开机时间: 2024-08-26 16:04:08, 关机时间: 2024-08-26 18:00:30\n",
      "事件数量: 4\n",
      "开机时间: 2024-08-27 07:56:07, 关机时间: 2024-08-27 09:22:40\n",
      "事件数量: 6\n",
      "开机时间: 2024-08-27 16:07:40, 关机时间: 2024-08-27 17:16:02\n",
      "事件数量: 6\n",
      "开机时间: 2024-08-28 08:00:45, 关机时间: 2024-08-28 08:57:07\n",
      "事件数量: 6\n",
      "开机时间: 2024-08-30 15:00:10, 关机时间: 2024-08-30 15:51:19\n",
      "事件数量: 4\n",
      "开机时间: 2024-08-31 06:11:47, 关机时间: 2024-08-31 07:14:59\n",
      "事件数量: 6\n",
      "开机时间: 2024-08-31 11:54:54, 关机时间: 2024-08-31 12:56:16\n",
      "事件数量: 6\n",
      "开机时间: 2024-09-02 15:30:55, 关机时间: 2024-09-02 15:46:00\n",
      "事件数量: 4\n",
      "开机时间: 2024-09-04 06:10:13, 关机时间: 2024-09-04 07:25:32\n",
      "事件数量: 6\n",
      "开机时间: 2024-09-07 21:47:35, 关机时间: 2024-09-07 23:13:13\n",
      "事件数量: 6\n",
      "开机时间: 2024-09-08 06:17:54, 关机时间: 2024-09-08 08:00:24\n",
      "事件数量: 4\n",
      "开机时间: 2024-09-08 13:00:51, 关机时间: 2024-09-08 13:51:18\n",
      "事件数量: 4\n",
      "开机时间: 2024-09-10 22:03:34, 关机时间: 2024-09-10 22:54:52\n",
      "事件数量: 6\n",
      "开机时间: 2024-09-11 11:55:51, 关机时间: 2024-09-11 12:54:09\n",
      "事件数量: 6\n",
      "开机时间: 2024-09-11 15:50:39, 关机时间: 2024-09-11 16:38:54\n",
      "事件数量: 6\n",
      "列 '字段名' 中没有重复值。\n"
     ]
    }
   ],
   "source": [
    "\n",
    "\n",
    "# In[6]:\n",
    "\n",
    "\n",
    "# Pre3: Data Annotations\n",
    "def create_annotations():\n",
    "    df_desc = pd.read_csv(f'{data_path}字段释义.csv', encoding='gbk')\n",
    "    df_desc['字段含义_new'] = df_desc['字段含义'] + df_desc['单位'].apply(\n",
    "        lambda x: f\",单位:{x}\" if pd.notnull(x) else \"\")\n",
    "    field_dict = df_desc.set_index('字段名')['字段含义_new'].to_dict()\n",
    "\n",
    "    folder_path = 'database_in_use'\n",
    "    files = [f.split('.')[0] for f in os.listdir(folder_path) if f.endswith('.csv')]\n",
    "\n",
    "    descriptions = []\n",
    "    for file_name in files:\n",
    "        df = pd.read_csv(f'{folder_path}/{file_name}.csv')\n",
    "        columns = df.columns.tolist()\n",
    "        annotations = [field_dict.get(col, '无注释') for col in columns]\n",
    "        descriptions.append({'数据表名': file_name, '字段名': columns, \"字段含义\": annotations})\n",
    "\n",
    "    # Customize specific tables\n",
    "    for item in descriptions:\n",
    "        if item['数据表名'] == 'Ajia_plc_1':\n",
    "            item['字段含义'][-2] = 'A架动作,包括关机、开机、A架摆出、缆绳挂妥、征服者出水、征服者落座、征服者起吊、征服者入水、缆绳解除、A架摆回'\n",
    "        if item['数据表名'] == 'device_13_11_meter_1311':\n",
    "            item['字段含义'][-1] = '折臂吊车及小艇动作,包括折臂吊车关机,折臂吊车开机,小艇检查完毕,小艇入水,小艇落座'\n",
    "        if item['数据表名'] == 'Port3_ksbg_9':\n",
    "            item['字段含义'][-1] = 'DP动作,包括OFF_DP,ON_DP'\n",
    "\n",
    "    with open('dict.json', 'w', encoding='utf-8') as f:\n",
    "        json.dump(descriptions, f, ensure_ascii=False, indent=4)\n",
    "\n",
    "\n",
    "# create_annotations()\n",
    "# In[7]:\n",
    "import pandas as pd\n",
    "\n",
    "df = pd.read_csv(f'{data_path}字段释义.csv', encoding='gbk')\n",
    "# 检查某一列是否有重复值\n",
    "column_name = '字段名'\n",
    "value_counts = df[column_name].value_counts()\n",
    "if any(value_counts > 1):\n",
    "    print(f\"列 '{column_name}' 中存在重复值。\")\n",
    "else:\n",
    "    print(f\"列 '{column_name}' 中没有重复值。\")\n",
    "df['字段含义_new'] = df['字段含义'] + df['单位'].apply(lambda x: \",单位:\" + x if pd.notnull(x) else \"\")\n",
    "# 将两列转换为字典\n",
    "field_dict = df.set_index('字段名')['字段含义_new'].to_dict()\n",
    "\n",
    "\n",
    "# 读取CSV文件\n",
    "\n",
    "def aa(filename):\n",
    "    df = pd.read_csv(f'database_in_use/{filename}.csv')\n",
    "    if 'Unnamed: 0' in df.columns:\n",
    "        del df['Unnamed: 0']\n",
    "    # 获取列名\n",
    "    column_names = df.columns.tolist()\n",
    "    # 定义列名与中文注释的映射字典\n",
    "    column_name_to_chinese = field_dict\n",
    "    # 获取中文注释\n",
    "    chinese_annotations = [column_name_to_chinese.get(col, '无注释') for col in column_names]\n",
    "\n",
    "    last_dict = {'数据表名': filename, '字段名': column_names, \"字段含义\": chinese_annotations}\n",
    "    return last_dict\n",
    "\n",
    "\n",
    "def process_folder(folder_path):\n",
    "    # 获取文件夹中的所有CSV文件\n",
    "    csv_files = [f for f in os.listdir(folder_path) if f.endswith('.csv')]\n",
    "\n",
    "    # 初始化结果列表\n",
    "    result_list = []\n",
    "\n",
    "    # 遍历每个CSV文件\n",
    "    for csv_file in csv_files:\n",
    "        # 去掉文件扩展名，获取文件名\n",
    "        filename = os.path.splitext(csv_file)[0]\n",
    "        # 调用aa函数处理文件\n",
    "        result_dict = aa(filename)\n",
    "        # 将结果字典添加到列表中\n",
    "        result_list.append(result_dict)\n",
    "\n",
    "    return result_list\n",
    "\n",
    "\n",
    "#使用示例\n",
    "folder_path = 'database_in_use'\n",
    "os.makedirs(folder_path, exist_ok=True)\n",
    "result = process_folder(folder_path)\n",
    "result = [item for item in result if item['数据表名'] != '设备参数详情表']\n",
    "for item in result:\n",
    "    if item['数据表名'] == 'Ajia_plc_1':\n",
    "        item['字段含义'][-1] = 'A架动作,包括关机、开机、A架摆出、缆绳挂妥、征服者出水、征服者落座、征服者起吊、征服者入水、缆绳解除、A架摆回'\n",
    "    if item['数据表名'] == 'device_13_11_meter_1311':\n",
    "        item['字段含义'][-1] = '折臂吊车及小艇动作,包括折臂吊车关机,折臂吊车开机,小艇检查完毕,小艇入水,小艇落座'\n",
    "    if item['数据表名'] == 'Port3_ksbg_9':\n",
    "        item['字段含义'][-1] = 'DP动作,包括OFF_DP,ON_DP'\n",
    "# %%\n",
    "df1 = pd.read_excel(f'{data_path}设备参数详情.xlsx', sheet_name='字段释义')\n",
    "df1['含义1'] = df1['含义'].fillna('') + ',' + df1['备注'].fillna('')\n",
    "dict_shebei = {'数据表名': '设备参数详情表', '字段名': list(df1['字段']), \"字段含义\": list(df1['含义1'])}\n",
    "# 修改字段含义列表的第二个值\n",
    "dict_shebei['字段含义'][1] = \"参数中文名,值包含一号柴油发电机组滑油压力、停泊/应急发电机组、一号柴油发电机组滑油压力等\"\n",
    "result.append(dict_shebei)\n",
    "\n",
    "# 假设这是你的列表数据\n",
    "data_list = result\n",
    "# 将列表存入 JSON 文件\n",
    "with open('dict.json', 'w', encoding='utf-8') as f:\n",
    "    json.dump(data_list, f, ensure_ascii=False, indent=4)\n",
    "\n"
   ],
   "metadata": {
    "ExecuteTime": {
     "end_time": "2025-01-23T09:31:11.249048Z",
     "start_time": "2025-01-23T09:30:41.063406Z"
    }
   },
   "id": "initial_id",
   "execution_count": 13
  },
  {
   "cell_type": "code",
   "execution_count": 14,
   "id": "d83ed197-7634-4dfa-afc0-aa8796da2928",
   "metadata": {
    "ExecuteTime": {
     "end_time": "2025-01-23T09:31:11.265120Z",
     "start_time": "2025-01-23T09:31:11.250049Z"
    }
   },
   "outputs": [],
   "source": [
    "# merge_csv_files(data_path,ouput_path)"
   ]
  }
 ],
 "metadata": {
  "kernelspec": {
   "display_name": "Python 3 (ipykernel)",
   "language": "python",
   "name": "python3"
  },
  "language_info": {
   "codemirror_mode": {
    "name": "ipython",
    "version": 3
   },
   "file_extension": ".py",
   "mimetype": "text/x-python",
   "name": "python",
   "nbconvert_exporter": "python",
   "pygments_lexer": "ipython3",
   "version": "3.10.2"
  }
 },
 "nbformat": 4,
 "nbformat_minor": 5
}
